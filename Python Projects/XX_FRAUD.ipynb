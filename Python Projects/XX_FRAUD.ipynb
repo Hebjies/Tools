{
 "cells": [
  {
   "cell_type": "markdown",
   "id": "309efdab",
   "metadata": {},
   "source": [
    "# Fraud Analyst Test"
   ]
  },
  {
   "cell_type": "markdown",
   "id": "cf511717",
   "metadata": {},
   "source": [
    "## Heberto Jimenez | Machine Learning Engineer"
   ]
  },
  {
   "cell_type": "markdown",
   "id": "27883f58",
   "metadata": {},
   "source": [
    "First stage, import the neccessary libraries for a machine learning study."
   ]
  },
  {
   "cell_type": "code",
   "execution_count": 168,
   "id": "ccf51084",
   "metadata": {},
   "outputs": [],
   "source": [
    "import pandas as pd\n",
    "import numpy as np\n",
    "import datetime\n",
    "import matplotlib.pyplot as plt\n",
    "import seaborn as sns\n",
    "from sklearn import preprocessing\n",
    "from sklearn.model_selection import train_test_split\n",
    "from sklearn.metrics import roc_curve, auc\n",
    "from sklearn.metrics import precision_score\n",
    "from sklearn.metrics import f1_score"
   ]
  },
  {
   "cell_type": "markdown",
   "id": "7677851c",
   "metadata": {},
   "source": [
    "File stored in local drive, you can replace the file location here, if needed."
   ]
  },
  {
   "cell_type": "code",
   "execution_count": 95,
   "id": "fc36a3db",
   "metadata": {},
   "outputs": [],
   "source": [
    "df = pd.read_csv(r'C:\\Users\\hebji\\Documents\\Examen Empleo\\transacciones.csv')"
   ]
  },
  {
   "cell_type": "markdown",
   "id": "85753c5e",
   "metadata": {},
   "source": [
    "Original file information."
   ]
  },
  {
   "cell_type": "code",
   "execution_count": 96,
   "id": "1e8219e1",
   "metadata": {},
   "outputs": [
    {
     "data": {
      "text/html": [
       "<div>\n",
       "<style scoped>\n",
       "    .dataframe tbody tr th:only-of-type {\n",
       "        vertical-align: middle;\n",
       "    }\n",
       "\n",
       "    .dataframe tbody tr th {\n",
       "        vertical-align: top;\n",
       "    }\n",
       "\n",
       "    .dataframe thead th {\n",
       "        text-align: right;\n",
       "    }\n",
       "</style>\n",
       "<table border=\"1\" class=\"dataframe\">\n",
       "  <thead>\n",
       "    <tr style=\"text-align: right;\">\n",
       "      <th></th>\n",
       "      <th>Country</th>\n",
       "      <th>Order Id</th>\n",
       "      <th>Creation date</th>\n",
       "      <th>Fecha</th>\n",
       "      <th>mes</th>\n",
       "      <th>Merchant Id</th>\n",
       "      <th>Account Id</th>\n",
       "      <th>Reference</th>\n",
       "      <th>Description</th>\n",
       "      <th>Transaction type</th>\n",
       "      <th>...</th>\n",
       "      <th>Days to deposit</th>\n",
       "      <th>BIN Bank</th>\n",
       "      <th>Country BIN ISO</th>\n",
       "      <th>Visible number</th>\n",
       "      <th>Card type</th>\n",
       "      <th>Transaction currency</th>\n",
       "      <th>Valor</th>\n",
       "      <th>Processing currency</th>\n",
       "      <th>Processing value</th>\n",
       "      <th>Franchise</th>\n",
       "    </tr>\n",
       "  </thead>\n",
       "  <tbody>\n",
       "    <tr>\n",
       "      <th>0</th>\n",
       "      <td>CO</td>\n",
       "      <td>521715135</td>\n",
       "      <td>2020-08-31 12:41:45.866</td>\n",
       "      <td>8/31/20</td>\n",
       "      <td>8</td>\n",
       "      <td>234543</td>\n",
       "      <td>833883</td>\n",
       "      <td>XYZ-8811992-1598893415162</td>\n",
       "      <td>XYZ agradece su compra.</td>\n",
       "      <td>AUTHORIZATION_AND_CAPTURE</td>\n",
       "      <td>...</td>\n",
       "      <td>NaN</td>\n",
       "      <td>BANCOLOMBIA</td>\n",
       "      <td>CO</td>\n",
       "      <td>549659******9663</td>\n",
       "      <td>CREDIT</td>\n",
       "      <td>COP</td>\n",
       "      <td>34450</td>\n",
       "      <td>COP</td>\n",
       "      <td>34450.0</td>\n",
       "      <td>MASTERCARD</td>\n",
       "    </tr>\n",
       "    <tr>\n",
       "      <th>1</th>\n",
       "      <td>CO</td>\n",
       "      <td>521714842</td>\n",
       "      <td>2020-08-31 12:41:23.219</td>\n",
       "      <td>8/31/20</td>\n",
       "      <td>8</td>\n",
       "      <td>234543</td>\n",
       "      <td>833883</td>\n",
       "      <td>XYZ-8812187-1598894631757</td>\n",
       "      <td>XYZ agradece su compra.</td>\n",
       "      <td>AUTHORIZATION_AND_CAPTURE</td>\n",
       "      <td>...</td>\n",
       "      <td>NaN</td>\n",
       "      <td>BANCOLOMBIA</td>\n",
       "      <td>CO</td>\n",
       "      <td>540696******7669</td>\n",
       "      <td>CREDIT</td>\n",
       "      <td>COP</td>\n",
       "      <td>45850</td>\n",
       "      <td>COP</td>\n",
       "      <td>45850.0</td>\n",
       "      <td>MASTERCARD</td>\n",
       "    </tr>\n",
       "    <tr>\n",
       "      <th>2</th>\n",
       "      <td>CO</td>\n",
       "      <td>521714218</td>\n",
       "      <td>2020-08-31 12:41:00.15</td>\n",
       "      <td>8/31/20</td>\n",
       "      <td>8</td>\n",
       "      <td>234543</td>\n",
       "      <td>833883</td>\n",
       "      <td>XYZ-8812199-1598894873278</td>\n",
       "      <td>XYZ agradece su compra.</td>\n",
       "      <td>AUTHORIZATION_AND_CAPTURE</td>\n",
       "      <td>...</td>\n",
       "      <td>NaN</td>\n",
       "      <td>BBVA COLOMBIA</td>\n",
       "      <td>CO</td>\n",
       "      <td>553643******9379</td>\n",
       "      <td>CREDIT</td>\n",
       "      <td>COP</td>\n",
       "      <td>50876</td>\n",
       "      <td>COP</td>\n",
       "      <td>50876.0</td>\n",
       "      <td>MASTERCARD</td>\n",
       "    </tr>\n",
       "    <tr>\n",
       "      <th>3</th>\n",
       "      <td>CO</td>\n",
       "      <td>521713519</td>\n",
       "      <td>2020-08-31 12:40:19.128</td>\n",
       "      <td>8/31/20</td>\n",
       "      <td>8</td>\n",
       "      <td>234543</td>\n",
       "      <td>839429</td>\n",
       "      <td>XYZ-464504-1598895616616</td>\n",
       "      <td>XYZ agradece su compra.</td>\n",
       "      <td>REFUND</td>\n",
       "      <td>...</td>\n",
       "      <td>NaN</td>\n",
       "      <td>BANCO DAVIVIEND</td>\n",
       "      <td>CO</td>\n",
       "      <td>499635******9266</td>\n",
       "      <td>DEBIT</td>\n",
       "      <td>COP</td>\n",
       "      <td>500</td>\n",
       "      <td>COP</td>\n",
       "      <td>500.0</td>\n",
       "      <td>VISA</td>\n",
       "    </tr>\n",
       "    <tr>\n",
       "      <th>4</th>\n",
       "      <td>CO</td>\n",
       "      <td>521713519</td>\n",
       "      <td>2020-08-31 12:40:16.871</td>\n",
       "      <td>8/31/20</td>\n",
       "      <td>8</td>\n",
       "      <td>234543</td>\n",
       "      <td>839429</td>\n",
       "      <td>XYZ-464504-1598895616616</td>\n",
       "      <td>XYZ agradece su compra.</td>\n",
       "      <td>AUTHORIZATION_AND_CAPTURE</td>\n",
       "      <td>...</td>\n",
       "      <td>NaN</td>\n",
       "      <td>BANCO DAVIVIEND</td>\n",
       "      <td>CO</td>\n",
       "      <td>499635******9266</td>\n",
       "      <td>DEBIT</td>\n",
       "      <td>COP</td>\n",
       "      <td>500</td>\n",
       "      <td>COP</td>\n",
       "      <td>500.0</td>\n",
       "      <td>VISA</td>\n",
       "    </tr>\n",
       "  </tbody>\n",
       "</table>\n",
       "<p>5 rows × 29 columns</p>\n",
       "</div>"
      ],
      "text/plain": [
       "  Country   Order Id            Creation date    Fecha  mes  Merchant Id  \\\n",
       "0      CO  521715135  2020-08-31 12:41:45.866  8/31/20    8       234543   \n",
       "1      CO  521714842  2020-08-31 12:41:23.219  8/31/20    8       234543   \n",
       "2      CO  521714218   2020-08-31 12:41:00.15  8/31/20    8       234543   \n",
       "3      CO  521713519  2020-08-31 12:40:19.128  8/31/20    8       234543   \n",
       "4      CO  521713519  2020-08-31 12:40:16.871  8/31/20    8       234543   \n",
       "\n",
       "   Account Id                  Reference              Description  \\\n",
       "0      833883  XYZ-8811992-1598893415162  XYZ agradece su compra.   \n",
       "1      833883  XYZ-8812187-1598894631757  XYZ agradece su compra.   \n",
       "2      833883  XYZ-8812199-1598894873278  XYZ agradece su compra.   \n",
       "3      839429   XYZ-464504-1598895616616  XYZ agradece su compra.   \n",
       "4      839429   XYZ-464504-1598895616616  XYZ agradece su compra.   \n",
       "\n",
       "            Transaction type  ... Days to deposit         BIN Bank  \\\n",
       "0  AUTHORIZATION_AND_CAPTURE  ...             NaN      BANCOLOMBIA   \n",
       "1  AUTHORIZATION_AND_CAPTURE  ...             NaN      BANCOLOMBIA   \n",
       "2  AUTHORIZATION_AND_CAPTURE  ...             NaN    BBVA COLOMBIA   \n",
       "3                     REFUND  ...             NaN  BANCO DAVIVIEND   \n",
       "4  AUTHORIZATION_AND_CAPTURE  ...             NaN  BANCO DAVIVIEND   \n",
       "\n",
       "  Country BIN ISO    Visible number Card type Transaction currency  Valor  \\\n",
       "0              CO  549659******9663    CREDIT                  COP  34450   \n",
       "1              CO  540696******7669    CREDIT                  COP  45850   \n",
       "2              CO  553643******9379    CREDIT                  COP  50876   \n",
       "3              CO  499635******9266     DEBIT                  COP    500   \n",
       "4              CO  499635******9266     DEBIT                  COP    500   \n",
       "\n",
       "  Processing currency Processing value   Franchise  \n",
       "0                 COP          34450.0  MASTERCARD  \n",
       "1                 COP          45850.0  MASTERCARD  \n",
       "2                 COP          50876.0  MASTERCARD  \n",
       "3                 COP            500.0        VISA  \n",
       "4                 COP            500.0        VISA  \n",
       "\n",
       "[5 rows x 29 columns]"
      ]
     },
     "execution_count": 96,
     "metadata": {},
     "output_type": "execute_result"
    }
   ],
   "source": [
    "df.head()"
   ]
  },
  {
   "cell_type": "markdown",
   "id": "42680a9e",
   "metadata": {},
   "source": [
    "It is important to keep only valuable information. Description is the same for all the order, does not provide any information of the order. Visible number corresponds to the card number, however, it does not contain the full number, keeping this variable will not help in the predicting model. Order ID does not provide relevant information for the order. Mes, is just the month, a value already available in creation date and fecha. Reference, same as order id, does not provide relevant information. Payment method contains the card type, so it will not provide more information."
   ]
  },
  {
   "cell_type": "code",
   "execution_count": 97,
   "id": "8c8af0af",
   "metadata": {},
   "outputs": [
    {
     "data": {
      "text/html": [
       "<div>\n",
       "<style scoped>\n",
       "    .dataframe tbody tr th:only-of-type {\n",
       "        vertical-align: middle;\n",
       "    }\n",
       "\n",
       "    .dataframe tbody tr th {\n",
       "        vertical-align: top;\n",
       "    }\n",
       "\n",
       "    .dataframe thead th {\n",
       "        text-align: right;\n",
       "    }\n",
       "</style>\n",
       "<table border=\"1\" class=\"dataframe\">\n",
       "  <thead>\n",
       "    <tr style=\"text-align: right;\">\n",
       "      <th></th>\n",
       "      <th>Country</th>\n",
       "      <th>Creation date</th>\n",
       "      <th>Fecha</th>\n",
       "      <th>Merchant Id</th>\n",
       "      <th>Account Id</th>\n",
       "      <th>Transaction type</th>\n",
       "      <th>Status</th>\n",
       "      <th>Response code</th>\n",
       "      <th>Bank Response code</th>\n",
       "      <th>Message response error</th>\n",
       "      <th>...</th>\n",
       "      <th>Transaction origin</th>\n",
       "      <th>Accreditation model</th>\n",
       "      <th>Days to deposit</th>\n",
       "      <th>BIN Bank</th>\n",
       "      <th>Country BIN ISO</th>\n",
       "      <th>Transaction currency</th>\n",
       "      <th>Valor</th>\n",
       "      <th>Processing currency</th>\n",
       "      <th>Processing value</th>\n",
       "      <th>Franchise</th>\n",
       "    </tr>\n",
       "  </thead>\n",
       "  <tbody>\n",
       "    <tr>\n",
       "      <th>0</th>\n",
       "      <td>CO</td>\n",
       "      <td>2020-08-31 12:41:45.866</td>\n",
       "      <td>8/31/20</td>\n",
       "      <td>234543</td>\n",
       "      <td>833883</td>\n",
       "      <td>AUTHORIZATION_AND_CAPTURE</td>\n",
       "      <td>APPROVED</td>\n",
       "      <td>APPROVED</td>\n",
       "      <td>0</td>\n",
       "      <td>NaN</td>\n",
       "      <td>...</td>\n",
       "      <td>POST_API</td>\n",
       "      <td>IMMEDIATE</td>\n",
       "      <td>NaN</td>\n",
       "      <td>BANCOLOMBIA</td>\n",
       "      <td>CO</td>\n",
       "      <td>COP</td>\n",
       "      <td>34450</td>\n",
       "      <td>COP</td>\n",
       "      <td>34450.0</td>\n",
       "      <td>MASTERCARD</td>\n",
       "    </tr>\n",
       "    <tr>\n",
       "      <th>1</th>\n",
       "      <td>CO</td>\n",
       "      <td>2020-08-31 12:41:23.219</td>\n",
       "      <td>8/31/20</td>\n",
       "      <td>234543</td>\n",
       "      <td>833883</td>\n",
       "      <td>AUTHORIZATION_AND_CAPTURE</td>\n",
       "      <td>DECLINED</td>\n",
       "      <td>INSUFFICIENT_FUNDS</td>\n",
       "      <td>51</td>\n",
       "      <td>Fondos Insuficientes</td>\n",
       "      <td>...</td>\n",
       "      <td>POST_API</td>\n",
       "      <td>IMMEDIATE</td>\n",
       "      <td>NaN</td>\n",
       "      <td>BANCOLOMBIA</td>\n",
       "      <td>CO</td>\n",
       "      <td>COP</td>\n",
       "      <td>45850</td>\n",
       "      <td>COP</td>\n",
       "      <td>45850.0</td>\n",
       "      <td>MASTERCARD</td>\n",
       "    </tr>\n",
       "    <tr>\n",
       "      <th>2</th>\n",
       "      <td>CO</td>\n",
       "      <td>2020-08-31 12:41:00.15</td>\n",
       "      <td>8/31/20</td>\n",
       "      <td>234543</td>\n",
       "      <td>833883</td>\n",
       "      <td>AUTHORIZATION_AND_CAPTURE</td>\n",
       "      <td>DECLINED</td>\n",
       "      <td>ANTIFRAUD_REJECTED</td>\n",
       "      <td>NaN</td>\n",
       "      <td>NaN</td>\n",
       "      <td>...</td>\n",
       "      <td>POST_API</td>\n",
       "      <td>IMMEDIATE</td>\n",
       "      <td>NaN</td>\n",
       "      <td>BBVA COLOMBIA</td>\n",
       "      <td>CO</td>\n",
       "      <td>COP</td>\n",
       "      <td>50876</td>\n",
       "      <td>COP</td>\n",
       "      <td>50876.0</td>\n",
       "      <td>MASTERCARD</td>\n",
       "    </tr>\n",
       "    <tr>\n",
       "      <th>3</th>\n",
       "      <td>CO</td>\n",
       "      <td>2020-08-31 12:40:19.128</td>\n",
       "      <td>8/31/20</td>\n",
       "      <td>234543</td>\n",
       "      <td>839429</td>\n",
       "      <td>REFUND</td>\n",
       "      <td>APPROVED</td>\n",
       "      <td>APPROVED</td>\n",
       "      <td>0</td>\n",
       "      <td>NaN</td>\n",
       "      <td>...</td>\n",
       "      <td>POST_API</td>\n",
       "      <td>IMMEDIATE</td>\n",
       "      <td>NaN</td>\n",
       "      <td>BANCO DAVIVIEND</td>\n",
       "      <td>CO</td>\n",
       "      <td>COP</td>\n",
       "      <td>500</td>\n",
       "      <td>COP</td>\n",
       "      <td>500.0</td>\n",
       "      <td>VISA</td>\n",
       "    </tr>\n",
       "    <tr>\n",
       "      <th>4</th>\n",
       "      <td>CO</td>\n",
       "      <td>2020-08-31 12:40:16.871</td>\n",
       "      <td>8/31/20</td>\n",
       "      <td>234543</td>\n",
       "      <td>839429</td>\n",
       "      <td>AUTHORIZATION_AND_CAPTURE</td>\n",
       "      <td>APPROVED</td>\n",
       "      <td>APPROVED</td>\n",
       "      <td>0</td>\n",
       "      <td>NaN</td>\n",
       "      <td>...</td>\n",
       "      <td>POST_API</td>\n",
       "      <td>IMMEDIATE</td>\n",
       "      <td>NaN</td>\n",
       "      <td>BANCO DAVIVIEND</td>\n",
       "      <td>CO</td>\n",
       "      <td>COP</td>\n",
       "      <td>500</td>\n",
       "      <td>COP</td>\n",
       "      <td>500.0</td>\n",
       "      <td>VISA</td>\n",
       "    </tr>\n",
       "  </tbody>\n",
       "</table>\n",
       "<p>5 rows × 23 columns</p>\n",
       "</div>"
      ],
      "text/plain": [
       "  Country            Creation date    Fecha  Merchant Id  Account Id  \\\n",
       "0      CO  2020-08-31 12:41:45.866  8/31/20       234543      833883   \n",
       "1      CO  2020-08-31 12:41:23.219  8/31/20       234543      833883   \n",
       "2      CO   2020-08-31 12:41:00.15  8/31/20       234543      833883   \n",
       "3      CO  2020-08-31 12:40:19.128  8/31/20       234543      839429   \n",
       "4      CO  2020-08-31 12:40:16.871  8/31/20       234543      839429   \n",
       "\n",
       "            Transaction type    Status       Response code Bank Response code  \\\n",
       "0  AUTHORIZATION_AND_CAPTURE  APPROVED            APPROVED                  0   \n",
       "1  AUTHORIZATION_AND_CAPTURE  DECLINED  INSUFFICIENT_FUNDS                 51   \n",
       "2  AUTHORIZATION_AND_CAPTURE  DECLINED  ANTIFRAUD_REJECTED                NaN   \n",
       "3                     REFUND  APPROVED            APPROVED                  0   \n",
       "4  AUTHORIZATION_AND_CAPTURE  APPROVED            APPROVED                  0   \n",
       "\n",
       "  Message response error  ... Transaction origin Accreditation model  \\\n",
       "0                    NaN  ...           POST_API           IMMEDIATE   \n",
       "1   Fondos Insuficientes  ...           POST_API           IMMEDIATE   \n",
       "2                    NaN  ...           POST_API           IMMEDIATE   \n",
       "3                    NaN  ...           POST_API           IMMEDIATE   \n",
       "4                    NaN  ...           POST_API           IMMEDIATE   \n",
       "\n",
       "  Days to deposit         BIN Bank Country BIN ISO  Transaction currency  \\\n",
       "0             NaN      BANCOLOMBIA              CO                   COP   \n",
       "1             NaN      BANCOLOMBIA              CO                   COP   \n",
       "2             NaN    BBVA COLOMBIA              CO                   COP   \n",
       "3             NaN  BANCO DAVIVIEND              CO                   COP   \n",
       "4             NaN  BANCO DAVIVIEND              CO                   COP   \n",
       "\n",
       "   Valor Processing currency Processing value   Franchise  \n",
       "0  34450                 COP          34450.0  MASTERCARD  \n",
       "1  45850                 COP          45850.0  MASTERCARD  \n",
       "2  50876                 COP          50876.0  MASTERCARD  \n",
       "3    500                 COP            500.0        VISA  \n",
       "4    500                 COP            500.0        VISA  \n",
       "\n",
       "[5 rows x 23 columns]"
      ]
     },
     "execution_count": 97,
     "metadata": {},
     "output_type": "execute_result"
    }
   ],
   "source": [
    "no_needed = [\"Description\", \"Visible number\", \"Order Id\", \"mes\", \"Reference\",\"Card type\"]\n",
    "df = df.drop(columns = no_needed)\n",
    "df.head()"
   ]
  },
  {
   "cell_type": "markdown",
   "id": "0c816946",
   "metadata": {},
   "source": [
    "Cleaning data set is importnat to avopide overfiting. Now, it is important to remove variables with no more than 1 value."
   ]
  },
  {
   "cell_type": "code",
   "execution_count": 98,
   "id": "1b9a2575",
   "metadata": {},
   "outputs": [
    {
     "data": {
      "text/plain": [
       "(570312, 23)"
      ]
     },
     "execution_count": 98,
     "metadata": {},
     "output_type": "execute_result"
    }
   ],
   "source": [
    "df.shape"
   ]
  },
  {
   "cell_type": "markdown",
   "id": "f4531b4c",
   "metadata": {},
   "source": [
    "A total of 570312 transactions."
   ]
  },
  {
   "cell_type": "markdown",
   "id": "5f3ccbd1",
   "metadata": {},
   "source": [
    "### Is important to get more information related to the variables, to understand if they indeed provide helpful information."
   ]
  },
  {
   "cell_type": "markdown",
   "id": "7473c5bc",
   "metadata": {},
   "source": [
    "Just one type of Transaction currency. It wont provide helpful information."
   ]
  },
  {
   "cell_type": "code",
   "execution_count": 99,
   "id": "dbcd1328",
   "metadata": {},
   "outputs": [
    {
     "data": {
      "text/plain": [
       "Transaction currency\n",
       "COP    570312\n",
       "dtype: int64"
      ]
     },
     "execution_count": 99,
     "metadata": {},
     "output_type": "execute_result"
    }
   ],
   "source": [
    "df.value_counts(\"Transaction currency\")"
   ]
  },
  {
   "cell_type": "markdown",
   "id": "34904838",
   "metadata": {},
   "source": [
    "Just one type of Country. It wont provide helpful information."
   ]
  },
  {
   "cell_type": "code",
   "execution_count": 100,
   "id": "484239d2",
   "metadata": {},
   "outputs": [
    {
     "data": {
      "text/plain": [
       "Country\n",
       "CO    570228\n",
       "dtype: int64"
      ]
     },
     "execution_count": 100,
     "metadata": {},
     "output_type": "execute_result"
    }
   ],
   "source": [
    "df.value_counts(\"Country\")"
   ]
  },
  {
   "cell_type": "markdown",
   "id": "1ee3148d",
   "metadata": {},
   "source": [
    "Country BIN ISO has a total of 107 values, even if it is not equally distributed, it contains important information."
   ]
  },
  {
   "cell_type": "code",
   "execution_count": 101,
   "id": "49d85b9a",
   "metadata": {},
   "outputs": [
    {
     "data": {
      "text/plain": [
       "Country BIN ISO\n",
       "CO    376493\n",
       "US    145337\n",
       "BO     10356\n",
       "HK      6324\n",
       "BR      6254\n",
       "       ...  \n",
       "EE         1\n",
       "BA         1\n",
       "AW         1\n",
       "AO         1\n",
       "ZW         1\n",
       "Length: 107, dtype: int64"
      ]
     },
     "execution_count": 101,
     "metadata": {},
     "output_type": "execute_result"
    }
   ],
   "source": [
    "df.value_counts(\"Country BIN ISO\")"
   ]
  },
  {
   "cell_type": "markdown",
   "id": "7025ca5d",
   "metadata": {},
   "source": [
    "Just one type of Processing currency. It wont provide helpful information."
   ]
  },
  {
   "cell_type": "code",
   "execution_count": 102,
   "id": "d15f6a67",
   "metadata": {},
   "outputs": [
    {
     "data": {
      "text/plain": [
       "Processing currency\n",
       "COP    566899\n",
       "dtype: int64"
      ]
     },
     "execution_count": 102,
     "metadata": {},
     "output_type": "execute_result"
    }
   ],
   "source": [
    "df.value_counts(\"Processing currency\")"
   ]
  },
  {
   "cell_type": "markdown",
   "id": "ca38ce9a",
   "metadata": {},
   "source": [
    "Valor and Processin value contains the same information, we should keep just one of them."
   ]
  },
  {
   "cell_type": "code",
   "execution_count": 103,
   "id": "e8eb19f3",
   "metadata": {},
   "outputs": [
    {
     "data": {
      "text/plain": [
       "0         True\n",
       "1         True\n",
       "2         True\n",
       "3         True\n",
       "4         True\n",
       "          ... \n",
       "570307    True\n",
       "570308    True\n",
       "570309    True\n",
       "570310    True\n",
       "570311    True\n",
       "Length: 570312, dtype: bool"
      ]
     },
     "execution_count": 103,
     "metadata": {},
     "output_type": "execute_result"
    }
   ],
   "source": [
    "df[\"Valor\"] == df[\"Processing value\"]"
   ]
  },
  {
   "cell_type": "markdown",
   "id": "68ff3c8f",
   "metadata": {},
   "source": [
    "Payment model could add noise to the data set."
   ]
  },
  {
   "cell_type": "code",
   "execution_count": 104,
   "id": "b131210c",
   "metadata": {},
   "outputs": [
    {
     "data": {
      "text/plain": [
       "Payment model\n",
       "GATEWAY       570278\n",
       "AGGREGATOR        34\n",
       "dtype: int64"
      ]
     },
     "execution_count": 104,
     "metadata": {},
     "output_type": "execute_result"
    }
   ],
   "source": [
    "df.value_counts(\"Payment model\")"
   ]
  },
  {
   "cell_type": "markdown",
   "id": "9736b536",
   "metadata": {},
   "source": [
    "Transaction origin could lead to particular differences, it will be helpful to see the ralatioshp later."
   ]
  },
  {
   "cell_type": "code",
   "execution_count": 105,
   "id": "2de13bfa",
   "metadata": {},
   "outputs": [
    {
     "data": {
      "text/plain": [
       "Transaction origin\n",
       "POST_API              569464\n",
       "STANDARD_HTML_v4_0       848\n",
       "dtype: int64"
      ]
     },
     "execution_count": 105,
     "metadata": {},
     "output_type": "execute_result"
    }
   ],
   "source": [
    "df.value_counts(\"Transaction origin\")"
   ]
  },
  {
   "cell_type": "markdown",
   "id": "935640b6",
   "metadata": {},
   "source": [
    "Just one type of Accreditation model. It wont provide helpful information."
   ]
  },
  {
   "cell_type": "code",
   "execution_count": 106,
   "id": "a551c5d2",
   "metadata": {},
   "outputs": [
    {
     "data": {
      "text/plain": [
       "Accreditation model\n",
       "IMMEDIATE    566005\n",
       "dtype: int64"
      ]
     },
     "execution_count": 106,
     "metadata": {},
     "output_type": "execute_result"
    }
   ],
   "source": [
    "df.value_counts(\"Accreditation model\")"
   ]
  },
  {
   "cell_type": "markdown",
   "id": "51807c19",
   "metadata": {},
   "source": [
    "Days to deposit contains no info."
   ]
  },
  {
   "cell_type": "code",
   "execution_count": 107,
   "id": "1cdfd8c2",
   "metadata": {},
   "outputs": [
    {
     "data": {
      "text/plain": [
       "Days to deposit\n",
       "0.0    14\n",
       "dtype: int64"
      ]
     },
     "execution_count": 107,
     "metadata": {},
     "output_type": "execute_result"
    }
   ],
   "source": [
    "df.value_counts(\"Days to deposit\")"
   ]
  },
  {
   "cell_type": "markdown",
   "id": "d7432f6d",
   "metadata": {},
   "source": [
    "Just one type of Merchant Id. It wont provide helpful information"
   ]
  },
  {
   "cell_type": "code",
   "execution_count": 108,
   "id": "5c8ef671",
   "metadata": {},
   "outputs": [
    {
     "data": {
      "text/plain": [
       "Merchant Id\n",
       "234543    570312\n",
       "dtype: int64"
      ]
     },
     "execution_count": 108,
     "metadata": {},
     "output_type": "execute_result"
    }
   ],
   "source": [
    "df.value_counts(\"Merchant Id\")"
   ]
  },
  {
   "cell_type": "markdown",
   "id": "e2e38fd1",
   "metadata": {},
   "source": [
    "Int and str values, not ideal for the model."
   ]
  },
  {
   "cell_type": "code",
   "execution_count": 109,
   "id": "bc2a41fd",
   "metadata": {
    "scrolled": true
   },
   "outputs": [
    {
     "data": {
      "text/plain": [
       "Authorization code\n",
       "0         51255\n",
       "ND         6193\n",
       "2            20\n",
       "3            19\n",
       "5            18\n",
       "          ...  \n",
       "484807        1\n",
       "484809        1\n",
       "484814        1\n",
       "484819        1\n",
       "514032        1\n",
       "Length: 203672, dtype: int64"
      ]
     },
     "execution_count": 109,
     "metadata": {},
     "output_type": "execute_result"
    }
   ],
   "source": [
    "df.value_counts(\"Authorization code\")"
   ]
  },
  {
   "cell_type": "markdown",
   "id": "2dfa5189",
   "metadata": {},
   "source": [
    "Bank Response code and Message response error are filled of to many NaN values."
   ]
  },
  {
   "cell_type": "markdown",
   "id": "b48394f6",
   "metadata": {},
   "source": [
    "Respondes code contains the information from Status."
   ]
  },
  {
   "cell_type": "code",
   "execution_count": 110,
   "id": "638da4ea",
   "metadata": {},
   "outputs": [
    {
     "data": {
      "text/html": [
       "<div>\n",
       "<style scoped>\n",
       "    .dataframe tbody tr th:only-of-type {\n",
       "        vertical-align: middle;\n",
       "    }\n",
       "\n",
       "    .dataframe tbody tr th {\n",
       "        vertical-align: top;\n",
       "    }\n",
       "\n",
       "    .dataframe thead th {\n",
       "        text-align: right;\n",
       "    }\n",
       "</style>\n",
       "<table border=\"1\" class=\"dataframe\">\n",
       "  <thead>\n",
       "    <tr style=\"text-align: right;\">\n",
       "      <th></th>\n",
       "      <th>Creation date</th>\n",
       "      <th>Fecha</th>\n",
       "      <th>Account Id</th>\n",
       "      <th>Transaction type</th>\n",
       "      <th>Response code</th>\n",
       "      <th>Payment method</th>\n",
       "      <th>Transaction origin</th>\n",
       "      <th>BIN Bank</th>\n",
       "      <th>Country BIN ISO</th>\n",
       "      <th>Valor</th>\n",
       "      <th>Franchise</th>\n",
       "    </tr>\n",
       "  </thead>\n",
       "  <tbody>\n",
       "    <tr>\n",
       "      <th>0</th>\n",
       "      <td>2020-08-31 12:41:45.866</td>\n",
       "      <td>8/31/20</td>\n",
       "      <td>833883</td>\n",
       "      <td>AUTHORIZATION_AND_CAPTURE</td>\n",
       "      <td>APPROVED</td>\n",
       "      <td>CRED_MASTERCARD</td>\n",
       "      <td>POST_API</td>\n",
       "      <td>BANCOLOMBIA</td>\n",
       "      <td>CO</td>\n",
       "      <td>34450</td>\n",
       "      <td>MASTERCARD</td>\n",
       "    </tr>\n",
       "    <tr>\n",
       "      <th>1</th>\n",
       "      <td>2020-08-31 12:41:23.219</td>\n",
       "      <td>8/31/20</td>\n",
       "      <td>833883</td>\n",
       "      <td>AUTHORIZATION_AND_CAPTURE</td>\n",
       "      <td>INSUFFICIENT_FUNDS</td>\n",
       "      <td>REDEBAN_MASTERCARD</td>\n",
       "      <td>POST_API</td>\n",
       "      <td>BANCOLOMBIA</td>\n",
       "      <td>CO</td>\n",
       "      <td>45850</td>\n",
       "      <td>MASTERCARD</td>\n",
       "    </tr>\n",
       "    <tr>\n",
       "      <th>2</th>\n",
       "      <td>2020-08-31 12:41:00.15</td>\n",
       "      <td>8/31/20</td>\n",
       "      <td>833883</td>\n",
       "      <td>AUTHORIZATION_AND_CAPTURE</td>\n",
       "      <td>ANTIFRAUD_REJECTED</td>\n",
       "      <td>CRED_MASTERCARD</td>\n",
       "      <td>POST_API</td>\n",
       "      <td>BBVA COLOMBIA</td>\n",
       "      <td>CO</td>\n",
       "      <td>50876</td>\n",
       "      <td>MASTERCARD</td>\n",
       "    </tr>\n",
       "    <tr>\n",
       "      <th>3</th>\n",
       "      <td>2020-08-31 12:40:19.128</td>\n",
       "      <td>8/31/20</td>\n",
       "      <td>839429</td>\n",
       "      <td>REFUND</td>\n",
       "      <td>APPROVED</td>\n",
       "      <td>CRED_VISA</td>\n",
       "      <td>POST_API</td>\n",
       "      <td>BANCO DAVIVIEND</td>\n",
       "      <td>CO</td>\n",
       "      <td>500</td>\n",
       "      <td>VISA</td>\n",
       "    </tr>\n",
       "    <tr>\n",
       "      <th>4</th>\n",
       "      <td>2020-08-31 12:40:16.871</td>\n",
       "      <td>8/31/20</td>\n",
       "      <td>839429</td>\n",
       "      <td>AUTHORIZATION_AND_CAPTURE</td>\n",
       "      <td>APPROVED</td>\n",
       "      <td>CRED_VISA</td>\n",
       "      <td>POST_API</td>\n",
       "      <td>BANCO DAVIVIEND</td>\n",
       "      <td>CO</td>\n",
       "      <td>500</td>\n",
       "      <td>VISA</td>\n",
       "    </tr>\n",
       "  </tbody>\n",
       "</table>\n",
       "</div>"
      ],
      "text/plain": [
       "             Creation date    Fecha  Account Id           Transaction type  \\\n",
       "0  2020-08-31 12:41:45.866  8/31/20      833883  AUTHORIZATION_AND_CAPTURE   \n",
       "1  2020-08-31 12:41:23.219  8/31/20      833883  AUTHORIZATION_AND_CAPTURE   \n",
       "2   2020-08-31 12:41:00.15  8/31/20      833883  AUTHORIZATION_AND_CAPTURE   \n",
       "3  2020-08-31 12:40:19.128  8/31/20      839429                     REFUND   \n",
       "4  2020-08-31 12:40:16.871  8/31/20      839429  AUTHORIZATION_AND_CAPTURE   \n",
       "\n",
       "        Response code      Payment method Transaction origin         BIN Bank  \\\n",
       "0            APPROVED     CRED_MASTERCARD           POST_API      BANCOLOMBIA   \n",
       "1  INSUFFICIENT_FUNDS  REDEBAN_MASTERCARD           POST_API      BANCOLOMBIA   \n",
       "2  ANTIFRAUD_REJECTED     CRED_MASTERCARD           POST_API    BBVA COLOMBIA   \n",
       "3            APPROVED           CRED_VISA           POST_API  BANCO DAVIVIEND   \n",
       "4            APPROVED           CRED_VISA           POST_API  BANCO DAVIVIEND   \n",
       "\n",
       "  Country BIN ISO  Valor   Franchise  \n",
       "0              CO  34450  MASTERCARD  \n",
       "1              CO  45850  MASTERCARD  \n",
       "2              CO  50876  MASTERCARD  \n",
       "3              CO    500        VISA  \n",
       "4              CO    500        VISA  "
      ]
     },
     "execution_count": 110,
     "metadata": {},
     "output_type": "execute_result"
    }
   ],
   "source": [
    "no_needed = [\"Transaction currency\", \"Country\", \"Processing currency\",\"Processing value\",\"Payment model\",\"Accreditation model\",\"Days to deposit\",\"Merchant Id\",\"Authorization code\",\"Status\", \"Bank Response code\", \"Message response error\"]\n",
    "df = df.drop(columns = no_needed)\n",
    "df.head()"
   ]
  },
  {
   "cell_type": "markdown",
   "id": "098db8b2",
   "metadata": {},
   "source": [
    "The objective is to classify a transacction as fraud, then a classification model should be implemented. Response code has the information of why a transaction was rejected. Since a classification model requires only two outputs, response code needs to be redefined to identify those transactions that were rejected due to fraud, and those accepted or rejected due to any other reason."
   ]
  },
  {
   "cell_type": "code",
   "execution_count": 111,
   "id": "d711e87f",
   "metadata": {},
   "outputs": [
    {
     "data": {
      "text/plain": [
       "Response code\n",
       "APPROVED                                    293100\n",
       "ANTIFRAUD_REJECTED                          206761\n",
       "PAYMENT_NETWORK_REJECTED                     21170\n",
       "RESTRICTED_CARD                              12924\n",
       "INVALID_TRANSACTION                           9918\n",
       "INSUFFICIENT_FUNDS                            8052\n",
       "INVALID_EXPIRATION_DATE_OR_SECURITY_CODE      6017\n",
       "ENTITY_DECLINED                               4918\n",
       "INVALID_CARD                                  3291\n",
       "EXPIRED_CARD                                  2692\n",
       "CONTACT_THE_ENTITY                             252\n",
       "FIX_NOT_REQUIRED                               209\n",
       "REPEAT_TRANSACTION                             180\n",
       "ERROR                                          153\n",
       "ERROR_FIXING_AND_REVERSING                     123\n",
       "PAYMENT_NETWORK_NO_RESPONSE                     92\n",
       "INACTIVE_PAYMENT_PROVIDER                       89\n",
       "PAYMENT_NETWORK_NO_CONNECTION                   79\n",
       "NOT_ACCEPTED_TRANSACTION                        77\n",
       "NOT_FIXED_FOR_ERROR_STATE                       65\n",
       "EXCEEDED_AMOUNT                                 61\n",
       "PAYMENT_NETWORK_BAD_RESPONSE                    47\n",
       "AUTOMATICALLY_FIXED_AND_SUCCESS_REVERSAL        26\n",
       "INTERNAL_PAYMENT_PROVIDER_ERROR                  9\n",
       "ENTITY_MESSAGING_ERROR                           5\n",
       "BANK_UNREACHABLE                                 2\n",
       "dtype: int64"
      ]
     },
     "execution_count": 111,
     "metadata": {},
     "output_type": "execute_result"
    }
   ],
   "source": [
    "df.value_counts(\"Response code\")"
   ]
  },
  {
   "cell_type": "markdown",
   "id": "c4429701",
   "metadata": {},
   "source": [
    "New outcome column created, 1 for fradulent transaction, and 0 otherwise."
   ]
  },
  {
   "cell_type": "code",
   "execution_count": 112,
   "id": "19eb3039",
   "metadata": {},
   "outputs": [
    {
     "data": {
      "text/html": [
       "<div>\n",
       "<style scoped>\n",
       "    .dataframe tbody tr th:only-of-type {\n",
       "        vertical-align: middle;\n",
       "    }\n",
       "\n",
       "    .dataframe tbody tr th {\n",
       "        vertical-align: top;\n",
       "    }\n",
       "\n",
       "    .dataframe thead th {\n",
       "        text-align: right;\n",
       "    }\n",
       "</style>\n",
       "<table border=\"1\" class=\"dataframe\">\n",
       "  <thead>\n",
       "    <tr style=\"text-align: right;\">\n",
       "      <th></th>\n",
       "      <th>Creation date</th>\n",
       "      <th>Fecha</th>\n",
       "      <th>Account Id</th>\n",
       "      <th>Transaction type</th>\n",
       "      <th>Payment method</th>\n",
       "      <th>Transaction origin</th>\n",
       "      <th>BIN Bank</th>\n",
       "      <th>Country BIN ISO</th>\n",
       "      <th>Valor</th>\n",
       "      <th>Franchise</th>\n",
       "      <th>Y</th>\n",
       "    </tr>\n",
       "  </thead>\n",
       "  <tbody>\n",
       "    <tr>\n",
       "      <th>0</th>\n",
       "      <td>2020-08-31 12:41:45.866</td>\n",
       "      <td>8/31/20</td>\n",
       "      <td>833883</td>\n",
       "      <td>AUTHORIZATION_AND_CAPTURE</td>\n",
       "      <td>CRED_MASTERCARD</td>\n",
       "      <td>POST_API</td>\n",
       "      <td>BANCOLOMBIA</td>\n",
       "      <td>CO</td>\n",
       "      <td>34450</td>\n",
       "      <td>MASTERCARD</td>\n",
       "      <td>0</td>\n",
       "    </tr>\n",
       "    <tr>\n",
       "      <th>1</th>\n",
       "      <td>2020-08-31 12:41:23.219</td>\n",
       "      <td>8/31/20</td>\n",
       "      <td>833883</td>\n",
       "      <td>AUTHORIZATION_AND_CAPTURE</td>\n",
       "      <td>REDEBAN_MASTERCARD</td>\n",
       "      <td>POST_API</td>\n",
       "      <td>BANCOLOMBIA</td>\n",
       "      <td>CO</td>\n",
       "      <td>45850</td>\n",
       "      <td>MASTERCARD</td>\n",
       "      <td>0</td>\n",
       "    </tr>\n",
       "    <tr>\n",
       "      <th>2</th>\n",
       "      <td>2020-08-31 12:41:00.15</td>\n",
       "      <td>8/31/20</td>\n",
       "      <td>833883</td>\n",
       "      <td>AUTHORIZATION_AND_CAPTURE</td>\n",
       "      <td>CRED_MASTERCARD</td>\n",
       "      <td>POST_API</td>\n",
       "      <td>BBVA COLOMBIA</td>\n",
       "      <td>CO</td>\n",
       "      <td>50876</td>\n",
       "      <td>MASTERCARD</td>\n",
       "      <td>1</td>\n",
       "    </tr>\n",
       "    <tr>\n",
       "      <th>3</th>\n",
       "      <td>2020-08-31 12:40:19.128</td>\n",
       "      <td>8/31/20</td>\n",
       "      <td>839429</td>\n",
       "      <td>REFUND</td>\n",
       "      <td>CRED_VISA</td>\n",
       "      <td>POST_API</td>\n",
       "      <td>BANCO DAVIVIEND</td>\n",
       "      <td>CO</td>\n",
       "      <td>500</td>\n",
       "      <td>VISA</td>\n",
       "      <td>0</td>\n",
       "    </tr>\n",
       "    <tr>\n",
       "      <th>4</th>\n",
       "      <td>2020-08-31 12:40:16.871</td>\n",
       "      <td>8/31/20</td>\n",
       "      <td>839429</td>\n",
       "      <td>AUTHORIZATION_AND_CAPTURE</td>\n",
       "      <td>CRED_VISA</td>\n",
       "      <td>POST_API</td>\n",
       "      <td>BANCO DAVIVIEND</td>\n",
       "      <td>CO</td>\n",
       "      <td>500</td>\n",
       "      <td>VISA</td>\n",
       "      <td>0</td>\n",
       "    </tr>\n",
       "  </tbody>\n",
       "</table>\n",
       "</div>"
      ],
      "text/plain": [
       "             Creation date    Fecha  Account Id           Transaction type  \\\n",
       "0  2020-08-31 12:41:45.866  8/31/20      833883  AUTHORIZATION_AND_CAPTURE   \n",
       "1  2020-08-31 12:41:23.219  8/31/20      833883  AUTHORIZATION_AND_CAPTURE   \n",
       "2   2020-08-31 12:41:00.15  8/31/20      833883  AUTHORIZATION_AND_CAPTURE   \n",
       "3  2020-08-31 12:40:19.128  8/31/20      839429                     REFUND   \n",
       "4  2020-08-31 12:40:16.871  8/31/20      839429  AUTHORIZATION_AND_CAPTURE   \n",
       "\n",
       "       Payment method Transaction origin         BIN Bank Country BIN ISO  \\\n",
       "0     CRED_MASTERCARD           POST_API      BANCOLOMBIA              CO   \n",
       "1  REDEBAN_MASTERCARD           POST_API      BANCOLOMBIA              CO   \n",
       "2     CRED_MASTERCARD           POST_API    BBVA COLOMBIA              CO   \n",
       "3           CRED_VISA           POST_API  BANCO DAVIVIEND              CO   \n",
       "4           CRED_VISA           POST_API  BANCO DAVIVIEND              CO   \n",
       "\n",
       "   Valor   Franchise  Y  \n",
       "0  34450  MASTERCARD  0  \n",
       "1  45850  MASTERCARD  0  \n",
       "2  50876  MASTERCARD  1  \n",
       "3    500        VISA  0  \n",
       "4    500        VISA  0  "
      ]
     },
     "execution_count": 112,
     "metadata": {},
     "output_type": "execute_result"
    }
   ],
   "source": [
    "aux = df[\"Response code\"]\n",
    "Y = []\n",
    "for i in aux:\n",
    "    if i == \"ANTIFRAUD_REJECTED\":\n",
    "        Y.append(1)\n",
    "    else:\n",
    "        Y.append(0)\n",
    "df['Y'] = Y\n",
    "df = df.drop(columns = [\"Response code\"])\n",
    "df.head()"
   ]
  },
  {
   "cell_type": "markdown",
   "id": "6c3e769b",
   "metadata": {},
   "source": [
    "A visaulization of the data could lead to important conclusions"
   ]
  },
  {
   "cell_type": "code",
   "execution_count": 113,
   "id": "4d72552d",
   "metadata": {},
   "outputs": [
    {
     "data": {
      "image/png": "[encoded data removed]",
      "text/plain": [
       "<Figure size 1122.38x360 with 1 Axes>"
      ]
     },
     "metadata": {
      "needs_background": "light"
     },
     "output_type": "display_data"
    }
   ],
   "source": [
    "sns.catplot(y=\"Transaction origin\", x=\"Valor\", hue=\"Y\", data=df, aspect = 3,palette=sns.color_palette(['green', 'red']))\n",
    "plt.xlabel(\"Processing value\",fontsize=20)\n",
    "plt.ylabel(\"Transaction origin\",fontsize=20)\n",
    "plt.title(\"Processing value vs Transaction origin\",fontsize=20)\n",
    "plt.show()"
   ]
  },
  {
   "cell_type": "markdown",
   "id": "199d218d",
   "metadata": {},
   "source": [
    "Transaction origin provides important informaiton that relates the outcome taking into account the processing value, therefore, cannot be removed."
   ]
  },
  {
   "cell_type": "code",
   "execution_count": 114,
   "id": "61d065b4",
   "metadata": {},
   "outputs": [
    {
     "data": {
      "text/html": [
       "<div>\n",
       "<style scoped>\n",
       "    .dataframe tbody tr th:only-of-type {\n",
       "        vertical-align: middle;\n",
       "    }\n",
       "\n",
       "    .dataframe tbody tr th {\n",
       "        vertical-align: top;\n",
       "    }\n",
       "\n",
       "    .dataframe thead th {\n",
       "        text-align: right;\n",
       "    }\n",
       "</style>\n",
       "<table border=\"1\" class=\"dataframe\">\n",
       "  <thead>\n",
       "    <tr style=\"text-align: right;\">\n",
       "      <th></th>\n",
       "      <th>Account Id</th>\n",
       "      <th>Transaction type</th>\n",
       "      <th>Payment method</th>\n",
       "      <th>Transaction origin</th>\n",
       "      <th>BIN Bank</th>\n",
       "      <th>Country BIN ISO</th>\n",
       "      <th>Valor</th>\n",
       "      <th>Franchise</th>\n",
       "      <th>Y</th>\n",
       "    </tr>\n",
       "  </thead>\n",
       "  <tbody>\n",
       "    <tr>\n",
       "      <th>0</th>\n",
       "      <td>833883</td>\n",
       "      <td>AUTHORIZATION_AND_CAPTURE</td>\n",
       "      <td>CRED_MASTERCARD</td>\n",
       "      <td>POST_API</td>\n",
       "      <td>BANCOLOMBIA</td>\n",
       "      <td>CO</td>\n",
       "      <td>34450</td>\n",
       "      <td>MASTERCARD</td>\n",
       "      <td>0</td>\n",
       "    </tr>\n",
       "    <tr>\n",
       "      <th>1</th>\n",
       "      <td>833883</td>\n",
       "      <td>AUTHORIZATION_AND_CAPTURE</td>\n",
       "      <td>REDEBAN_MASTERCARD</td>\n",
       "      <td>POST_API</td>\n",
       "      <td>BANCOLOMBIA</td>\n",
       "      <td>CO</td>\n",
       "      <td>45850</td>\n",
       "      <td>MASTERCARD</td>\n",
       "      <td>0</td>\n",
       "    </tr>\n",
       "    <tr>\n",
       "      <th>2</th>\n",
       "      <td>833883</td>\n",
       "      <td>AUTHORIZATION_AND_CAPTURE</td>\n",
       "      <td>CRED_MASTERCARD</td>\n",
       "      <td>POST_API</td>\n",
       "      <td>BBVA COLOMBIA</td>\n",
       "      <td>CO</td>\n",
       "      <td>50876</td>\n",
       "      <td>MASTERCARD</td>\n",
       "      <td>1</td>\n",
       "    </tr>\n",
       "    <tr>\n",
       "      <th>3</th>\n",
       "      <td>839429</td>\n",
       "      <td>REFUND</td>\n",
       "      <td>CRED_VISA</td>\n",
       "      <td>POST_API</td>\n",
       "      <td>BANCO DAVIVIEND</td>\n",
       "      <td>CO</td>\n",
       "      <td>500</td>\n",
       "      <td>VISA</td>\n",
       "      <td>0</td>\n",
       "    </tr>\n",
       "    <tr>\n",
       "      <th>4</th>\n",
       "      <td>839429</td>\n",
       "      <td>AUTHORIZATION_AND_CAPTURE</td>\n",
       "      <td>CRED_VISA</td>\n",
       "      <td>POST_API</td>\n",
       "      <td>BANCO DAVIVIEND</td>\n",
       "      <td>CO</td>\n",
       "      <td>500</td>\n",
       "      <td>VISA</td>\n",
       "      <td>0</td>\n",
       "    </tr>\n",
       "  </tbody>\n",
       "</table>\n",
       "</div>"
      ],
      "text/plain": [
       "   Account Id           Transaction type      Payment method  \\\n",
       "0      833883  AUTHORIZATION_AND_CAPTURE     CRED_MASTERCARD   \n",
       "1      833883  AUTHORIZATION_AND_CAPTURE  REDEBAN_MASTERCARD   \n",
       "2      833883  AUTHORIZATION_AND_CAPTURE     CRED_MASTERCARD   \n",
       "3      839429                     REFUND           CRED_VISA   \n",
       "4      839429  AUTHORIZATION_AND_CAPTURE           CRED_VISA   \n",
       "\n",
       "  Transaction origin         BIN Bank Country BIN ISO  Valor   Franchise  Y  \n",
       "0           POST_API      BANCOLOMBIA              CO  34450  MASTERCARD  0  \n",
       "1           POST_API      BANCOLOMBIA              CO  45850  MASTERCARD  0  \n",
       "2           POST_API    BBVA COLOMBIA              CO  50876  MASTERCARD  1  \n",
       "3           POST_API  BANCO DAVIVIEND              CO    500        VISA  0  \n",
       "4           POST_API  BANCO DAVIVIEND              CO    500        VISA  0  "
      ]
     },
     "execution_count": 114,
     "metadata": {},
     "output_type": "execute_result"
    }
   ],
   "source": [
    "df['Hour'] = pd.to_datetime(df['Creation date']).dt.hour\n",
    "df=df.drop(columns=[\"Creation date\", \"Fecha\"])\n",
    "df = df.drop(columns=[\"Hour\"])\n",
    "df.head()"
   ]
  },
  {
   "cell_type": "markdown",
   "id": "eeafd29f",
   "metadata": {},
   "source": [
    "Data final preparation"
   ]
  },
  {
   "cell_type": "code",
   "execution_count": 115,
   "id": "19a3e29e",
   "metadata": {},
   "outputs": [
    {
     "data": {
      "text/plain": [
       "(570312, 9)"
      ]
     },
     "execution_count": 115,
     "metadata": {},
     "output_type": "execute_result"
    }
   ],
   "source": [
    "df.shape"
   ]
  },
  {
   "cell_type": "markdown",
   "id": "571d5962",
   "metadata": {},
   "source": [
    "It is important to remove any transaction with missing information."
   ]
  },
  {
   "cell_type": "code",
   "execution_count": 116,
   "id": "1189228c",
   "metadata": {},
   "outputs": [
    {
     "data": {
      "text/plain": [
       "(559830, 9)"
      ]
     },
     "execution_count": 116,
     "metadata": {},
     "output_type": "execute_result"
    }
   ],
   "source": [
    "df = df.dropna(subset=['BIN Bank'])\n",
    "df = df.dropna(subset=['Country BIN ISO'])\n",
    "df.shape"
   ]
  },
  {
   "cell_type": "markdown",
   "id": "c650bf07",
   "metadata": {},
   "source": [
    "Variables Country BIN ISO and BIN Bank have to many values, a one hot encoding cannot be applied. Also, these variables are not distributed, so, a frequency based encoding is applied to these."
   ]
  },
  {
   "cell_type": "code",
   "execution_count": 117,
   "id": "ef152fdc",
   "metadata": {},
   "outputs": [
    {
     "data": {
      "text/html": [
       "<div>\n",
       "<style scoped>\n",
       "    .dataframe tbody tr th:only-of-type {\n",
       "        vertical-align: middle;\n",
       "    }\n",
       "\n",
       "    .dataframe tbody tr th {\n",
       "        vertical-align: top;\n",
       "    }\n",
       "\n",
       "    .dataframe thead th {\n",
       "        text-align: right;\n",
       "    }\n",
       "</style>\n",
       "<table border=\"1\" class=\"dataframe\">\n",
       "  <thead>\n",
       "    <tr style=\"text-align: right;\">\n",
       "      <th></th>\n",
       "      <th>Account Id</th>\n",
       "      <th>Transaction type</th>\n",
       "      <th>Payment method</th>\n",
       "      <th>Transaction origin</th>\n",
       "      <th>BIN Bank</th>\n",
       "      <th>Country BIN ISO</th>\n",
       "      <th>Valor</th>\n",
       "      <th>Franchise</th>\n",
       "      <th>Y</th>\n",
       "    </tr>\n",
       "  </thead>\n",
       "  <tbody>\n",
       "    <tr>\n",
       "      <th>0</th>\n",
       "      <td>833883</td>\n",
       "      <td>AUTHORIZATION_AND_CAPTURE</td>\n",
       "      <td>CRED_MASTERCARD</td>\n",
       "      <td>POST_API</td>\n",
       "      <td>84706</td>\n",
       "      <td>373275</td>\n",
       "      <td>34450</td>\n",
       "      <td>MASTERCARD</td>\n",
       "      <td>0</td>\n",
       "    </tr>\n",
       "    <tr>\n",
       "      <th>1</th>\n",
       "      <td>833883</td>\n",
       "      <td>AUTHORIZATION_AND_CAPTURE</td>\n",
       "      <td>REDEBAN_MASTERCARD</td>\n",
       "      <td>POST_API</td>\n",
       "      <td>84706</td>\n",
       "      <td>373275</td>\n",
       "      <td>45850</td>\n",
       "      <td>MASTERCARD</td>\n",
       "      <td>0</td>\n",
       "    </tr>\n",
       "    <tr>\n",
       "      <th>2</th>\n",
       "      <td>833883</td>\n",
       "      <td>AUTHORIZATION_AND_CAPTURE</td>\n",
       "      <td>CRED_MASTERCARD</td>\n",
       "      <td>POST_API</td>\n",
       "      <td>19148</td>\n",
       "      <td>373275</td>\n",
       "      <td>50876</td>\n",
       "      <td>MASTERCARD</td>\n",
       "      <td>1</td>\n",
       "    </tr>\n",
       "    <tr>\n",
       "      <th>3</th>\n",
       "      <td>839429</td>\n",
       "      <td>REFUND</td>\n",
       "      <td>CRED_VISA</td>\n",
       "      <td>POST_API</td>\n",
       "      <td>6562</td>\n",
       "      <td>373275</td>\n",
       "      <td>500</td>\n",
       "      <td>VISA</td>\n",
       "      <td>0</td>\n",
       "    </tr>\n",
       "    <tr>\n",
       "      <th>4</th>\n",
       "      <td>839429</td>\n",
       "      <td>AUTHORIZATION_AND_CAPTURE</td>\n",
       "      <td>CRED_VISA</td>\n",
       "      <td>POST_API</td>\n",
       "      <td>6562</td>\n",
       "      <td>373275</td>\n",
       "      <td>500</td>\n",
       "      <td>VISA</td>\n",
       "      <td>0</td>\n",
       "    </tr>\n",
       "  </tbody>\n",
       "</table>\n",
       "</div>"
      ],
      "text/plain": [
       "   Account Id           Transaction type      Payment method  \\\n",
       "0      833883  AUTHORIZATION_AND_CAPTURE     CRED_MASTERCARD   \n",
       "1      833883  AUTHORIZATION_AND_CAPTURE  REDEBAN_MASTERCARD   \n",
       "2      833883  AUTHORIZATION_AND_CAPTURE     CRED_MASTERCARD   \n",
       "3      839429                     REFUND           CRED_VISA   \n",
       "4      839429  AUTHORIZATION_AND_CAPTURE           CRED_VISA   \n",
       "\n",
       "  Transaction origin  BIN Bank  Country BIN ISO  Valor   Franchise  Y  \n",
       "0           POST_API     84706           373275  34450  MASTERCARD  0  \n",
       "1           POST_API     84706           373275  45850  MASTERCARD  0  \n",
       "2           POST_API     19148           373275  50876  MASTERCARD  1  \n",
       "3           POST_API      6562           373275    500        VISA  0  \n",
       "4           POST_API      6562           373275    500        VISA  0  "
      ]
     },
     "execution_count": 117,
     "metadata": {},
     "output_type": "execute_result"
    }
   ],
   "source": [
    "df_frequency_map = df[\"Country BIN ISO\"].value_counts().to_dict()\n",
    "df[\"Country BIN ISO\"] = df[\"Country BIN ISO\"].map(df_frequency_map)\n",
    "df_frequency_map = df[\"BIN Bank\"].value_counts().to_dict()\n",
    "df[\"BIN Bank\"] = df[\"BIN Bank\"].map(df_frequency_map)\n",
    "df.head()"
   ]
  },
  {
   "cell_type": "markdown",
   "id": "59b24af4",
   "metadata": {},
   "source": [
    "For the rest of variables, one hot encoding would be better."
   ]
  },
  {
   "cell_type": "code",
   "execution_count": 118,
   "id": "dc6b2b3a",
   "metadata": {},
   "outputs": [
    {
     "data": {
      "text/html": [
       "<div>\n",
       "<style scoped>\n",
       "    .dataframe tbody tr th:only-of-type {\n",
       "        vertical-align: middle;\n",
       "    }\n",
       "\n",
       "    .dataframe tbody tr th {\n",
       "        vertical-align: top;\n",
       "    }\n",
       "\n",
       "    .dataframe thead th {\n",
       "        text-align: right;\n",
       "    }\n",
       "</style>\n",
       "<table border=\"1\" class=\"dataframe\">\n",
       "  <thead>\n",
       "    <tr style=\"text-align: right;\">\n",
       "      <th></th>\n",
       "      <th>BIN Bank</th>\n",
       "      <th>Country BIN ISO</th>\n",
       "      <th>Valor</th>\n",
       "      <th>Y</th>\n",
       "      <th>Transaction type_AUTHORIZATION_AND_CAPTURE</th>\n",
       "      <th>Transaction type_REFUND</th>\n",
       "      <th>Transaction type_VOID</th>\n",
       "      <th>Transaction origin_POST_API</th>\n",
       "      <th>Transaction origin_STANDARD_HTML_v4_0</th>\n",
       "      <th>Payment method_CRED_AMEX</th>\n",
       "      <th>...</th>\n",
       "      <th>Payment method_REDEBAN_AMEX</th>\n",
       "      <th>Payment method_REDEBAN_DINERS</th>\n",
       "      <th>Payment method_REDEBAN_MASTERCARD</th>\n",
       "      <th>Payment method_REDEBAN_VISA</th>\n",
       "      <th>Franchise_AMEX</th>\n",
       "      <th>Franchise_CODENSA</th>\n",
       "      <th>Franchise_DINERS</th>\n",
       "      <th>Franchise_MASTERCARD</th>\n",
       "      <th>Franchise_VISA</th>\n",
       "      <th>Franchise_VISA_DEBIT</th>\n",
       "    </tr>\n",
       "  </thead>\n",
       "  <tbody>\n",
       "    <tr>\n",
       "      <th>0</th>\n",
       "      <td>84706</td>\n",
       "      <td>373275</td>\n",
       "      <td>34450</td>\n",
       "      <td>0</td>\n",
       "      <td>1</td>\n",
       "      <td>0</td>\n",
       "      <td>0</td>\n",
       "      <td>1</td>\n",
       "      <td>0</td>\n",
       "      <td>0</td>\n",
       "      <td>...</td>\n",
       "      <td>0</td>\n",
       "      <td>0</td>\n",
       "      <td>0</td>\n",
       "      <td>0</td>\n",
       "      <td>0</td>\n",
       "      <td>0</td>\n",
       "      <td>0</td>\n",
       "      <td>1</td>\n",
       "      <td>0</td>\n",
       "      <td>0</td>\n",
       "    </tr>\n",
       "    <tr>\n",
       "      <th>1</th>\n",
       "      <td>84706</td>\n",
       "      <td>373275</td>\n",
       "      <td>45850</td>\n",
       "      <td>0</td>\n",
       "      <td>1</td>\n",
       "      <td>0</td>\n",
       "      <td>0</td>\n",
       "      <td>1</td>\n",
       "      <td>0</td>\n",
       "      <td>0</td>\n",
       "      <td>...</td>\n",
       "      <td>0</td>\n",
       "      <td>0</td>\n",
       "      <td>1</td>\n",
       "      <td>0</td>\n",
       "      <td>0</td>\n",
       "      <td>0</td>\n",
       "      <td>0</td>\n",
       "      <td>1</td>\n",
       "      <td>0</td>\n",
       "      <td>0</td>\n",
       "    </tr>\n",
       "    <tr>\n",
       "      <th>2</th>\n",
       "      <td>19148</td>\n",
       "      <td>373275</td>\n",
       "      <td>50876</td>\n",
       "      <td>1</td>\n",
       "      <td>1</td>\n",
       "      <td>0</td>\n",
       "      <td>0</td>\n",
       "      <td>1</td>\n",
       "      <td>0</td>\n",
       "      <td>0</td>\n",
       "      <td>...</td>\n",
       "      <td>0</td>\n",
       "      <td>0</td>\n",
       "      <td>0</td>\n",
       "      <td>0</td>\n",
       "      <td>0</td>\n",
       "      <td>0</td>\n",
       "      <td>0</td>\n",
       "      <td>1</td>\n",
       "      <td>0</td>\n",
       "      <td>0</td>\n",
       "    </tr>\n",
       "    <tr>\n",
       "      <th>3</th>\n",
       "      <td>6562</td>\n",
       "      <td>373275</td>\n",
       "      <td>500</td>\n",
       "      <td>0</td>\n",
       "      <td>0</td>\n",
       "      <td>1</td>\n",
       "      <td>0</td>\n",
       "      <td>1</td>\n",
       "      <td>0</td>\n",
       "      <td>0</td>\n",
       "      <td>...</td>\n",
       "      <td>0</td>\n",
       "      <td>0</td>\n",
       "      <td>0</td>\n",
       "      <td>0</td>\n",
       "      <td>0</td>\n",
       "      <td>0</td>\n",
       "      <td>0</td>\n",
       "      <td>0</td>\n",
       "      <td>1</td>\n",
       "      <td>0</td>\n",
       "    </tr>\n",
       "    <tr>\n",
       "      <th>4</th>\n",
       "      <td>6562</td>\n",
       "      <td>373275</td>\n",
       "      <td>500</td>\n",
       "      <td>0</td>\n",
       "      <td>1</td>\n",
       "      <td>0</td>\n",
       "      <td>0</td>\n",
       "      <td>1</td>\n",
       "      <td>0</td>\n",
       "      <td>0</td>\n",
       "      <td>...</td>\n",
       "      <td>0</td>\n",
       "      <td>0</td>\n",
       "      <td>0</td>\n",
       "      <td>0</td>\n",
       "      <td>0</td>\n",
       "      <td>0</td>\n",
       "      <td>0</td>\n",
       "      <td>0</td>\n",
       "      <td>1</td>\n",
       "      <td>0</td>\n",
       "    </tr>\n",
       "  </tbody>\n",
       "</table>\n",
       "<p>5 rows × 24 columns</p>\n",
       "</div>"
      ],
      "text/plain": [
       "   BIN Bank  Country BIN ISO  Valor  Y  \\\n",
       "0     84706           373275  34450  0   \n",
       "1     84706           373275  45850  0   \n",
       "2     19148           373275  50876  1   \n",
       "3      6562           373275    500  0   \n",
       "4      6562           373275    500  0   \n",
       "\n",
       "   Transaction type_AUTHORIZATION_AND_CAPTURE  Transaction type_REFUND  \\\n",
       "0                                           1                        0   \n",
       "1                                           1                        0   \n",
       "2                                           1                        0   \n",
       "3                                           0                        1   \n",
       "4                                           1                        0   \n",
       "\n",
       "   Transaction type_VOID  Transaction origin_POST_API  \\\n",
       "0                      0                            1   \n",
       "1                      0                            1   \n",
       "2                      0                            1   \n",
       "3                      0                            1   \n",
       "4                      0                            1   \n",
       "\n",
       "   Transaction origin_STANDARD_HTML_v4_0  Payment method_CRED_AMEX  ...  \\\n",
       "0                                      0                         0  ...   \n",
       "1                                      0                         0  ...   \n",
       "2                                      0                         0  ...   \n",
       "3                                      0                         0  ...   \n",
       "4                                      0                         0  ...   \n",
       "\n",
       "   Payment method_REDEBAN_AMEX  Payment method_REDEBAN_DINERS  \\\n",
       "0                            0                              0   \n",
       "1                            0                              0   \n",
       "2                            0                              0   \n",
       "3                            0                              0   \n",
       "4                            0                              0   \n",
       "\n",
       "   Payment method_REDEBAN_MASTERCARD  Payment method_REDEBAN_VISA  \\\n",
       "0                                  0                            0   \n",
       "1                                  1                            0   \n",
       "2                                  0                            0   \n",
       "3                                  0                            0   \n",
       "4                                  0                            0   \n",
       "\n",
       "   Franchise_AMEX  Franchise_CODENSA  Franchise_DINERS  Franchise_MASTERCARD  \\\n",
       "0               0                  0                 0                     1   \n",
       "1               0                  0                 0                     1   \n",
       "2               0                  0                 0                     1   \n",
       "3               0                  0                 0                     0   \n",
       "4               0                  0                 0                     0   \n",
       "\n",
       "   Franchise_VISA  Franchise_VISA_DEBIT  \n",
       "0               0                     0  \n",
       "1               0                     0  \n",
       "2               0                     0  \n",
       "3               1                     0  \n",
       "4               1                     0  \n",
       "\n",
       "[5 rows x 24 columns]"
      ]
     },
     "execution_count": 118,
     "metadata": {},
     "output_type": "execute_result"
    }
   ],
   "source": [
    "features_one_hot = pd.get_dummies(df[[\"Account Id\", \"Transaction type\",\"Transaction origin\",\"Payment method\",\"Franchise\" ]])\n",
    "features_one_freq = pd.concat([df, features_one_hot ], axis = 1)\n",
    "features_one_freq = features_one_freq.drop(columns =[\"Account Id\", \"Transaction type\",\"Transaction origin\",\"Payment method\",\"Franchise\"])\n",
    "features_one_freq.head()"
   ]
  },
  {
   "cell_type": "code",
   "execution_count": 119,
   "id": "50e6abb5",
   "metadata": {},
   "outputs": [
    {
     "data": {
      "text/plain": [
       "(559830, 24)"
      ]
     },
     "execution_count": 119,
     "metadata": {},
     "output_type": "execute_result"
    }
   ],
   "source": [
    "features_one_freq.shape"
   ]
  },
  {
   "cell_type": "code",
   "execution_count": 120,
   "id": "96282fb4",
   "metadata": {},
   "outputs": [
    {
     "data": {
      "text/plain": [
       "<AxesSubplot:ylabel='Y'>"
      ]
     },
     "execution_count": 120,
     "metadata": {},
     "output_type": "execute_result"
    },
    {
     "data": {
      "image/png": "[encoded data removed]",
      "text/plain": [
       "<Figure size 432x288 with 1 Axes>"
      ]
     },
     "metadata": {},
     "output_type": "display_data"
    }
   ],
   "source": [
    "features_one_freq['Y'].value_counts().plot(kind='pie')"
   ]
  },
  {
   "cell_type": "code",
   "execution_count": 121,
   "id": "ae704e17",
   "metadata": {},
   "outputs": [
    {
     "data": {
      "text/plain": [
       "Y\n",
       "0    354917\n",
       "1    204913\n",
       "dtype: int64"
      ]
     },
     "execution_count": 121,
     "metadata": {},
     "output_type": "execute_result"
    }
   ],
   "source": [
    "features_one_freq.value_counts(\"Y\")"
   ]
  },
  {
   "cell_type": "code",
   "execution_count": 122,
   "id": "0625f979",
   "metadata": {},
   "outputs": [
    {
     "data": {
      "text/plain": [
       "<AxesSubplot:ylabel='Y'>"
      ]
     },
     "execution_count": 122,
     "metadata": {},
     "output_type": "execute_result"
    },
    {
     "data": {
      "image/png": "[encoded data removed]",
      "text/plain": [
       "<Figure size 432x288 with 1 Axes>"
      ]
     },
     "metadata": {},
     "output_type": "display_data"
    }
   ],
   "source": [
    "from sklearn.utils import resample\n",
    "from sklearn.utils import shuffle\n",
    "\n",
    "zero  = features_one_freq[features_one_freq['Y']==0]   # clase 0\n",
    "one = features_one_freq[features_one_freq['Y']==1]  # clase 1\n",
    "\n",
    "df_minority_upsampled = resample(one, replace = True, n_samples = 354917)\n",
    "features_one_freq = pd.concat([zero, df_minority_upsampled])\n",
    "features_one_freq = shuffle(features_one_freq) # shuffling so that there is particular sequence\n",
    "features_one_freq['Y'].value_counts().plot(kind='pie')"
   ]
  },
  {
   "cell_type": "code",
   "execution_count": 123,
   "id": "2f9ebc76",
   "metadata": {},
   "outputs": [
    {
     "data": {
      "text/plain": [
       "array([0, 1, 0, ..., 1, 1, 0], dtype=int64)"
      ]
     },
     "execution_count": 123,
     "metadata": {},
     "output_type": "execute_result"
    }
   ],
   "source": [
    "Y = features_one_freq[\"Y\"].to_numpy()\n",
    "features_one_freq = features_one_freq.drop(columns=[\"Y\"])\n",
    "Y"
   ]
  },
  {
   "cell_type": "code",
   "execution_count": 124,
   "id": "b416bf14",
   "metadata": {},
   "outputs": [],
   "source": [
    "X = features_one_freq"
   ]
  },
  {
   "cell_type": "code",
   "execution_count": 125,
   "id": "ecff0bbe",
   "metadata": {},
   "outputs": [],
   "source": [
    "for i in X.columns:\n",
    "    X[i].fillna(X[i].mode()[0], inplace=True)\n"
   ]
  },
  {
   "cell_type": "code",
   "execution_count": 126,
   "id": "e2412897",
   "metadata": {},
   "outputs": [
    {
     "data": {
      "text/html": [
       "<div>\n",
       "<style scoped>\n",
       "    .dataframe tbody tr th:only-of-type {\n",
       "        vertical-align: middle;\n",
       "    }\n",
       "\n",
       "    .dataframe tbody tr th {\n",
       "        vertical-align: top;\n",
       "    }\n",
       "\n",
       "    .dataframe thead th {\n",
       "        text-align: right;\n",
       "    }\n",
       "</style>\n",
       "<table border=\"1\" class=\"dataframe\">\n",
       "  <thead>\n",
       "    <tr style=\"text-align: right;\">\n",
       "      <th></th>\n",
       "      <th>BIN Bank</th>\n",
       "      <th>Country BIN ISO</th>\n",
       "      <th>Valor</th>\n",
       "      <th>Transaction type_AUTHORIZATION_AND_CAPTURE</th>\n",
       "      <th>Transaction type_REFUND</th>\n",
       "      <th>Transaction type_VOID</th>\n",
       "      <th>Transaction origin_POST_API</th>\n",
       "      <th>Transaction origin_STANDARD_HTML_v4_0</th>\n",
       "      <th>Payment method_CRED_AMEX</th>\n",
       "      <th>Payment method_CRED_DINERS</th>\n",
       "      <th>...</th>\n",
       "      <th>Payment method_REDEBAN_AMEX</th>\n",
       "      <th>Payment method_REDEBAN_DINERS</th>\n",
       "      <th>Payment method_REDEBAN_MASTERCARD</th>\n",
       "      <th>Payment method_REDEBAN_VISA</th>\n",
       "      <th>Franchise_AMEX</th>\n",
       "      <th>Franchise_CODENSA</th>\n",
       "      <th>Franchise_DINERS</th>\n",
       "      <th>Franchise_MASTERCARD</th>\n",
       "      <th>Franchise_VISA</th>\n",
       "      <th>Franchise_VISA_DEBIT</th>\n",
       "    </tr>\n",
       "  </thead>\n",
       "  <tbody>\n",
       "    <tr>\n",
       "      <th>373762</th>\n",
       "      <td>69232</td>\n",
       "      <td>373275</td>\n",
       "      <td>100</td>\n",
       "      <td>1</td>\n",
       "      <td>0</td>\n",
       "      <td>0</td>\n",
       "      <td>1</td>\n",
       "      <td>0</td>\n",
       "      <td>0</td>\n",
       "      <td>0</td>\n",
       "      <td>...</td>\n",
       "      <td>0</td>\n",
       "      <td>0</td>\n",
       "      <td>0</td>\n",
       "      <td>0</td>\n",
       "      <td>0</td>\n",
       "      <td>0</td>\n",
       "      <td>0</td>\n",
       "      <td>0</td>\n",
       "      <td>1</td>\n",
       "      <td>0</td>\n",
       "    </tr>\n",
       "    <tr>\n",
       "      <th>164030</th>\n",
       "      <td>6261</td>\n",
       "      <td>6324</td>\n",
       "      <td>69375</td>\n",
       "      <td>1</td>\n",
       "      <td>0</td>\n",
       "      <td>0</td>\n",
       "      <td>1</td>\n",
       "      <td>0</td>\n",
       "      <td>0</td>\n",
       "      <td>0</td>\n",
       "      <td>...</td>\n",
       "      <td>0</td>\n",
       "      <td>0</td>\n",
       "      <td>0</td>\n",
       "      <td>0</td>\n",
       "      <td>0</td>\n",
       "      <td>0</td>\n",
       "      <td>0</td>\n",
       "      <td>1</td>\n",
       "      <td>0</td>\n",
       "      <td>0</td>\n",
       "    </tr>\n",
       "    <tr>\n",
       "      <th>453367</th>\n",
       "      <td>20011</td>\n",
       "      <td>373275</td>\n",
       "      <td>500</td>\n",
       "      <td>1</td>\n",
       "      <td>0</td>\n",
       "      <td>0</td>\n",
       "      <td>1</td>\n",
       "      <td>0</td>\n",
       "      <td>0</td>\n",
       "      <td>0</td>\n",
       "      <td>...</td>\n",
       "      <td>0</td>\n",
       "      <td>0</td>\n",
       "      <td>0</td>\n",
       "      <td>0</td>\n",
       "      <td>0</td>\n",
       "      <td>0</td>\n",
       "      <td>0</td>\n",
       "      <td>0</td>\n",
       "      <td>1</td>\n",
       "      <td>0</td>\n",
       "    </tr>\n",
       "    <tr>\n",
       "      <th>112190</th>\n",
       "      <td>19148</td>\n",
       "      <td>373275</td>\n",
       "      <td>31350</td>\n",
       "      <td>1</td>\n",
       "      <td>0</td>\n",
       "      <td>0</td>\n",
       "      <td>1</td>\n",
       "      <td>0</td>\n",
       "      <td>0</td>\n",
       "      <td>0</td>\n",
       "      <td>...</td>\n",
       "      <td>0</td>\n",
       "      <td>0</td>\n",
       "      <td>0</td>\n",
       "      <td>0</td>\n",
       "      <td>0</td>\n",
       "      <td>0</td>\n",
       "      <td>0</td>\n",
       "      <td>0</td>\n",
       "      <td>1</td>\n",
       "      <td>0</td>\n",
       "    </tr>\n",
       "    <tr>\n",
       "      <th>309495</th>\n",
       "      <td>69232</td>\n",
       "      <td>373275</td>\n",
       "      <td>100</td>\n",
       "      <td>1</td>\n",
       "      <td>0</td>\n",
       "      <td>0</td>\n",
       "      <td>1</td>\n",
       "      <td>0</td>\n",
       "      <td>0</td>\n",
       "      <td>0</td>\n",
       "      <td>...</td>\n",
       "      <td>0</td>\n",
       "      <td>0</td>\n",
       "      <td>0</td>\n",
       "      <td>0</td>\n",
       "      <td>0</td>\n",
       "      <td>0</td>\n",
       "      <td>0</td>\n",
       "      <td>0</td>\n",
       "      <td>1</td>\n",
       "      <td>0</td>\n",
       "    </tr>\n",
       "  </tbody>\n",
       "</table>\n",
       "<p>5 rows × 23 columns</p>\n",
       "</div>"
      ],
      "text/plain": [
       "        BIN Bank  Country BIN ISO  Valor  \\\n",
       "373762     69232           373275    100   \n",
       "164030      6261             6324  69375   \n",
       "453367     20011           373275    500   \n",
       "112190     19148           373275  31350   \n",
       "309495     69232           373275    100   \n",
       "\n",
       "        Transaction type_AUTHORIZATION_AND_CAPTURE  Transaction type_REFUND  \\\n",
       "373762                                           1                        0   \n",
       "164030                                           1                        0   \n",
       "453367                                           1                        0   \n",
       "112190                                           1                        0   \n",
       "309495                                           1                        0   \n",
       "\n",
       "        Transaction type_VOID  Transaction origin_POST_API  \\\n",
       "373762                      0                            1   \n",
       "164030                      0                            1   \n",
       "453367                      0                            1   \n",
       "112190                      0                            1   \n",
       "309495                      0                            1   \n",
       "\n",
       "        Transaction origin_STANDARD_HTML_v4_0  Payment method_CRED_AMEX  \\\n",
       "373762                                      0                         0   \n",
       "164030                                      0                         0   \n",
       "453367                                      0                         0   \n",
       "112190                                      0                         0   \n",
       "309495                                      0                         0   \n",
       "\n",
       "        Payment method_CRED_DINERS  ...  Payment method_REDEBAN_AMEX  \\\n",
       "373762                           0  ...                            0   \n",
       "164030                           0  ...                            0   \n",
       "453367                           0  ...                            0   \n",
       "112190                           0  ...                            0   \n",
       "309495                           0  ...                            0   \n",
       "\n",
       "        Payment method_REDEBAN_DINERS  Payment method_REDEBAN_MASTERCARD  \\\n",
       "373762                              0                                  0   \n",
       "164030                              0                                  0   \n",
       "453367                              0                                  0   \n",
       "112190                              0                                  0   \n",
       "309495                              0                                  0   \n",
       "\n",
       "        Payment method_REDEBAN_VISA  Franchise_AMEX  Franchise_CODENSA  \\\n",
       "373762                            0               0                  0   \n",
       "164030                            0               0                  0   \n",
       "453367                            0               0                  0   \n",
       "112190                            0               0                  0   \n",
       "309495                            0               0                  0   \n",
       "\n",
       "        Franchise_DINERS  Franchise_MASTERCARD  Franchise_VISA  \\\n",
       "373762                 0                     0               1   \n",
       "164030                 0                     1               0   \n",
       "453367                 0                     0               1   \n",
       "112190                 0                     0               1   \n",
       "309495                 0                     0               1   \n",
       "\n",
       "        Franchise_VISA_DEBIT  \n",
       "373762                     0  \n",
       "164030                     0  \n",
       "453367                     0  \n",
       "112190                     0  \n",
       "309495                     0  \n",
       "\n",
       "[5 rows x 23 columns]"
      ]
     },
     "execution_count": 126,
     "metadata": {},
     "output_type": "execute_result"
    }
   ],
   "source": [
    "X.head()"
   ]
  },
  {
   "cell_type": "markdown",
   "id": "c5c0fb34",
   "metadata": {},
   "source": [
    "No NaN values in data to be trained and tested."
   ]
  },
  {
   "cell_type": "code",
   "execution_count": 127,
   "id": "7acdb109",
   "metadata": {},
   "outputs": [
    {
     "data": {
      "text/plain": [
       "False"
      ]
     },
     "execution_count": 127,
     "metadata": {},
     "output_type": "execute_result"
    }
   ],
   "source": [
    "X.isnull().values.any()"
   ]
  },
  {
   "cell_type": "markdown",
   "id": "2f7ca1da",
   "metadata": {},
   "source": [
    "Libraries needed to train and test models"
   ]
  },
  {
   "cell_type": "code",
   "execution_count": 153,
   "id": "3911c6fd",
   "metadata": {},
   "outputs": [],
   "source": [
    "from sklearn.linear_model import LogisticRegression\n",
    "from sklearn.tree import DecisionTreeClassifier\n",
    "from sklearn.ensemble import RandomForestClassifier\n",
    "from sklearn.ensemble import AdaBoostClassifier\n",
    "from sklearn.metrics import accuracy_score\n",
    "from sklearn.metrics import recall_score"
   ]
  },
  {
   "cell_type": "code",
   "execution_count": 129,
   "id": "ffcebf7e",
   "metadata": {},
   "outputs": [],
   "source": [
    "X_train, X_test, Y_train, y_test = train_test_split(X, Y, test_size=0.2, random_state = 42)"
   ]
  },
  {
   "cell_type": "code",
   "execution_count": 130,
   "id": "e37d04d4",
   "metadata": {},
   "outputs": [],
   "source": [
    "def plot_confusion_matrix(y,y_predict):\n",
    "    \"this function plots the confusion matrix\"\n",
    "    from sklearn.metrics import confusion_matrix\n",
    "\n",
    "    cm = confusion_matrix(y, y_predict)\n",
    "    ax= plt.subplot()\n",
    "    sns.heatmap(cm, annot=True, ax = ax); #annot=True to annotate cells\n",
    "    ax.set_xlabel('Predicted labels')\n",
    "    ax.set_ylabel('True labels')\n",
    "    ax.set_title('Confusion Matrix'); \n",
    "    ax.xaxis.set_ticklabels(['Not Fradulent', 'Fradulent']); ax.yaxis.set_ticklabels(['Not Fradulent', 'Fradulent'])"
   ]
  },
  {
   "cell_type": "code",
   "execution_count": 131,
   "id": "a883df7c",
   "metadata": {},
   "outputs": [],
   "source": [
    "lr = LogisticRegression(random_state=42)\n",
    "\n",
    "dt = DecisionTreeClassifier()\n",
    "\n",
    "rf = RandomForestClassifier()\n",
    "\n",
    "ada = AdaBoostClassifier()\n"
   ]
  },
  {
   "cell_type": "code",
   "execution_count": 132,
   "id": "0343550d",
   "metadata": {},
   "outputs": [],
   "source": [
    "classifiers = [('Regresión Logística', lr),\n",
    "               ('Árbol de Decisión', dt), ('Random Forest', rf), ('AdaBoost', ada),]"
   ]
  },
  {
   "cell_type": "code",
   "execution_count": 133,
   "id": "a3de5b35",
   "metadata": {
    "scrolled": true
   },
   "outputs": [
    {
     "name": "stdout",
     "output_type": "stream",
     "text": [
      "Regresión Logística : 0.67\n",
      "Árbol de Decisión : 0.90\n",
      "Random Forest : 0.90\n",
      "AdaBoost : 0.83\n"
     ]
    }
   ],
   "source": [
    "classifier_names = []\n",
    "classifier_acc = []\n",
    "ypredict = []\n",
    "for classifier_name, classifier in classifiers:\n",
    " \n",
    "    # Ajuste para datos de entrenamiento\n",
    "    classifier.fit(X_train, Y_train)    \n",
    "\n",
    "    # Predicciones\n",
    "    y_pred = classifier.predict(X_test)\n",
    "    ypredict.append(y_pred)\n",
    "    accuracy = accuracy_score(y_test,y_pred)\n",
    "\n",
    "    # Evaluación del clasificador\n",
    "    print('{:s} : {:.2f}'.format(classifier_name, accuracy))\n",
    "    classifier_names.append(classifier_name)\n",
    "    classifier_acc.append(accuracy)"
   ]
  },
  {
   "cell_type": "markdown",
   "id": "bf01d8b9",
   "metadata": {},
   "source": [
    "A decision tree is may fit best this model, now is importnat to test it in teh original data set. A confusion matrix could help to understan the data."
   ]
  },
  {
   "cell_type": "markdown",
   "id": "d456f702",
   "metadata": {},
   "source": [
    "<h3><center>Confusion Matrix for Decision Tree Classifier </center></h3>"
   ]
  },
  {
   "cell_type": "code",
   "execution_count": 134,
   "id": "313256c9",
   "metadata": {},
   "outputs": [
    {
     "data": {
      "image/png": "[encoded data removed]",
      "text/plain": [
       "<Figure size 432x288 with 2 Axes>"
      ]
     },
     "metadata": {
      "needs_background": "light"
     },
     "output_type": "display_data"
    }
   ],
   "source": [
    "plot_confusion_matrix(y_test,ypredict[1])"
   ]
  },
  {
   "cell_type": "markdown",
   "id": "e3bb64cb",
   "metadata": {},
   "source": [
    "<h3><center>Confusion Matrix for Logistic Regression</center></h3>"
   ]
  },
  {
   "cell_type": "code",
   "execution_count": 135,
   "id": "d91b5d33",
   "metadata": {},
   "outputs": [
    {
     "data": {
      "image/png": "[encoded data removed]",
      "text/plain": [
       "<Figure size 432x288 with 2 Axes>"
      ]
     },
     "metadata": {
      "needs_background": "light"
     },
     "output_type": "display_data"
    }
   ],
   "source": [
    "plot_confusion_matrix(y_test,ypredict[0])"
   ]
  },
  {
   "cell_type": "markdown",
   "id": "279dcd1d",
   "metadata": {},
   "source": [
    "<h3><center>Confusion Matrix for Random Forest Classifier</center></h3>"
   ]
  },
  {
   "cell_type": "code",
   "execution_count": 136,
   "id": "fd58fca4",
   "metadata": {},
   "outputs": [
    {
     "data": {
      "image/png": "[encoded data removed]",
      "text/plain": [
       "<Figure size 432x288 with 2 Axes>"
      ]
     },
     "metadata": {
      "needs_background": "light"
     },
     "output_type": "display_data"
    }
   ],
   "source": [
    "plot_confusion_matrix(y_test,ypredict[2])"
   ]
  },
  {
   "cell_type": "markdown",
   "id": "3fc4723d",
   "metadata": {},
   "source": [
    "<h3><center>Confusion Matrix for Ada Boost Classifier</center></h3>"
   ]
  },
  {
   "cell_type": "code",
   "execution_count": 137,
   "id": "002849bc",
   "metadata": {},
   "outputs": [
    {
     "data": {
      "image/png": "[encoded data removed]",
      "text/plain": [
       "<Figure size 432x288 with 2 Axes>"
      ]
     },
     "metadata": {
      "needs_background": "light"
     },
     "output_type": "display_data"
    }
   ],
   "source": [
    "plot_confusion_matrix(y_test,ypredict[3])"
   ]
  },
  {
   "cell_type": "markdown",
   "id": "a4d9b13d",
   "metadata": {},
   "source": [
    "<h1><center>Testing original data </center></h1>"
   ]
  },
  {
   "cell_type": "code",
   "execution_count": 148,
   "id": "d57884ea",
   "metadata": {},
   "outputs": [],
   "source": [
    "X_or = pd.read_csv(r'C:\\Users\\hebji\\Documents\\Examen Empleo\\X.csv')\n",
    "X_or = X_or.drop(columns=[\"Unnamed: 0\"])\n",
    "Y_or = pd.read_csv(r'C:\\Users\\hebji\\Documents\\Examen Empleo\\Y.csv')\n",
    "Y_or = Y_or.drop(columns=[\"Unnamed: 0\"])"
   ]
  },
  {
   "cell_type": "code",
   "execution_count": 149,
   "id": "9b628662",
   "metadata": {},
   "outputs": [],
   "source": [
    "X_train, X_test, Y_train, y_test = train_test_split(X_or, Y_or, test_size=0.2, random_state = 42)"
   ]
  },
  {
   "cell_type": "markdown",
   "id": "031df749",
   "metadata": {},
   "source": [
    "<h3><center>Decision Tree Classifier </center></h3>"
   ]
  },
  {
   "cell_type": "code",
   "execution_count": 176,
   "id": "97be0ce3",
   "metadata": {},
   "outputs": [
    {
     "name": "stdout",
     "output_type": "stream",
     "text": [
      "Accuarcy for test with Decision Tree model is: 0.9297\n",
      "Decision Tree model recall is: 0.9231\n",
      "Decision Tree model precision is:  0.9297\n",
      "Decision Tree model balanced F-score is: 0.9297\n"
     ]
    },
    {
     "data": {
      "image/png": "[encoded data removed]",
      "text/plain": [
       "<Figure size 432x288 with 2 Axes>"
      ]
     },
     "metadata": {
      "needs_background": "light"
     },
     "output_type": "display_data"
    }
   ],
   "source": [
    "y_pred = dt.predict(X_test)\n",
    "accuracy = accuracy_score(y_test,y_pred)\n",
    "print(\"Accuarcy for test with Decision Tree model is: {:.4f}\".format(accuracy)) \n",
    "print(\"Decision Tree model recall is: {:.4f}\".format(recall_score(y_test, y_pred, average='macro'))) \n",
    "print(\"Decision Tree model precision is:  {:.4f}\".format(recall_score(y_test, y_pred, average='weighted')))\n",
    "print(\"Decision Tree model balanced F-score is: {:.4f}\".format(f1_score(y_test, y_pred, average='micro')))\n",
    "plot_confusion_matrix(y_test,y_pred)"
   ]
  },
  {
   "cell_type": "code",
   "execution_count": 180,
   "id": "01a3376b",
   "metadata": {},
   "outputs": [
    {
     "data": {
      "image/png": "[encoded data removed]",
      "text/plain": [
       "<Figure size 432x288 with 1 Axes>"
      ]
     },
     "metadata": {
      "needs_background": "light"
     },
     "output_type": "display_data"
    }
   ],
   "source": [
    "tree_fpr, tree_tpr, threshold = roc_curve(y_test, y_pred)\n",
    "auc_tree = auc(tree_fpr, tree_tpr)\n",
    "\n",
    "\n",
    "plt.plot(tree_fpr, tree_tpr, marker='.', label='Decision Tree (auc = %0.4f)' % auc_tree)\n",
    "\n",
    "plt.xlabel('False Positive Rate -->')\n",
    "plt.ylabel('True Positive Rate -->')\n",
    "plt.title('Receiver Operating Characteristic for Decision Tree')\n",
    "\n",
    "plt.legend()\n",
    "\n",
    "plt.show()"
   ]
  },
  {
   "cell_type": "markdown",
   "id": "2532b041",
   "metadata": {},
   "source": [
    "<h3><center>Random Forest Classifier</center></h3>"
   ]
  },
  {
   "cell_type": "code",
   "execution_count": 181,
   "id": "9da5e467",
   "metadata": {},
   "outputs": [
    {
     "name": "stdout",
     "output_type": "stream",
     "text": [
      "Accuarcy for test with Random Forest model is: 0.9283\n",
      "Random Forest model recall is: 0.9232\n",
      "Random Forest model precision is:  0.9283\n",
      "Random Forest model balanced F-score is: 0.9283\n"
     ]
    },
    {
     "data": {
      "image/png": "[encoded data removed]",
      "text/plain": [
       "<Figure size 432x288 with 2 Axes>"
      ]
     },
     "metadata": {
      "needs_background": "light"
     },
     "output_type": "display_data"
    }
   ],
   "source": [
    "y_pred = rf.predict(X_test)\n",
    "accuracy = accuracy_score(y_test,y_pred)\n",
    "print(\"Accuarcy for test with Random Forest model is: {:.4f}\".format(accuracy)) \n",
    "print(\"Random Forest model recall is: {:.4f}\".format(recall_score(y_test, y_pred, average='macro'))) \n",
    "print(\"Random Forest model precision is:  {:.4f}\".format(recall_score(y_test, y_pred, average='weighted')))\n",
    "print(\"Random Forest model balanced F-score is: {:.4f}\".format(f1_score(y_test, y_pred, average='micro')))\n",
    "plot_confusion_matrix(y_test,y_pred)"
   ]
  },
  {
   "cell_type": "code",
   "execution_count": 182,
   "id": "a3139b10",
   "metadata": {},
   "outputs": [
    {
     "data": {
      "image/png": "[encoded data removed]",
      "text/plain": [
       "<Figure size 432x288 with 1 Axes>"
      ]
     },
     "metadata": {
      "needs_background": "light"
     },
     "output_type": "display_data"
    }
   ],
   "source": [
    "rf_fpr, rf_tpr, threshold = roc_curve(y_test, y_pred)\n",
    "auc_rf = auc(rf_fpr, rf_tpr)\n",
    "\n",
    "\n",
    "plt.plot(rf_fpr, rf_tpr, marker='.', label='Random Forest (auc = %0.3f)' % auc_rf)\n",
    "\n",
    "plt.xlabel('False Positive Rate -->')\n",
    "plt.ylabel('True Positive Rate -->')\n",
    "plt.title('Receiver Operating Characteristic for Random Forest')\n",
    "\n",
    "plt.legend()\n",
    "\n",
    "plt.show()"
   ]
  },
  {
   "cell_type": "markdown",
   "id": "f295b6cb",
   "metadata": {},
   "source": [
    "## A seen above, a decision tree and random forest model are the ideals in this problem. They can predict a fraud transaction with precision of ~ 93%, this will be the end of the project."
   ]
  }
 ],
 "metadata": {
  "kernelspec": {
   "display_name": "Python 3",
   "language": "python",
   "name": "python3"
  },
  "language_info": {
   "codemirror_mode": {
    "name": "ipython",
    "version": 3
   },
   "file_extension": ".py",
   "mimetype": "text/x-python",
   "name": "python",
   "nbconvert_exporter": "python",
   "pygments_lexer": "ipython3",
   "version": "3.8.8"
  }
 },
 "nbformat": 4,
 "nbformat_minor": 5
}
