{
 "cells": [
  {
   "cell_type": "code",
   "execution_count": 8,
   "id": "ee9c2dfb-ed99-4532-a510-7b0a19905c5e",
   "metadata": {},
   "outputs": [],
   "source": [
    "import pandas as pd\n",
    "import numpy as np"
   ]
  },
  {
   "cell_type": "code",
   "execution_count": 9,
   "id": "afb9c456-7d03-48bc-8fa1-97d3c5c47dd5",
   "metadata": {},
   "outputs": [
    {
     "data": {
      "text/html": [
       "<div>\n",
       "<style scoped>\n",
       "    .dataframe tbody tr th:only-of-type {\n",
       "        vertical-align: middle;\n",
       "    }\n",
       "\n",
       "    .dataframe tbody tr th {\n",
       "        vertical-align: top;\n",
       "    }\n",
       "\n",
       "    .dataframe thead th {\n",
       "        text-align: right;\n",
       "    }\n",
       "</style>\n",
       "<table border=\"1\" class=\"dataframe\">\n",
       "  <thead>\n",
       "    <tr style=\"text-align: right;\">\n",
       "      <th></th>\n",
       "      <th>name</th>\n",
       "      <th>season</th>\n",
       "      <th>episode</th>\n",
       "      <th>air_date</th>\n",
       "      <th>characters</th>\n",
       "    </tr>\n",
       "  </thead>\n",
       "  <tbody>\n",
       "    <tr>\n",
       "      <th>0</th>\n",
       "      <td>Pilot</td>\n",
       "      <td>1</td>\n",
       "      <td>1</td>\n",
       "      <td>December 2, 2013</td>\n",
       "      <td>1, 2, 35, 38, 62, 92, 127, 144, 158, 175, 179,...</td>\n",
       "    </tr>\n",
       "    <tr>\n",
       "      <th>1</th>\n",
       "      <td>Lawnmower Dog</td>\n",
       "      <td>1</td>\n",
       "      <td>2</td>\n",
       "      <td>December 9, 2013</td>\n",
       "      <td>1, 2, 38, 46, 63, 80, 175, 221, 239, 246, 304,...</td>\n",
       "    </tr>\n",
       "    <tr>\n",
       "      <th>2</th>\n",
       "      <td>Anatomy Park</td>\n",
       "      <td>1</td>\n",
       "      <td>3</td>\n",
       "      <td>December 16, 2013</td>\n",
       "      <td>1, 2, 12, 17, 38, 45, 96, 97, 98, 99, 100, 101...</td>\n",
       "    </tr>\n",
       "    <tr>\n",
       "      <th>3</th>\n",
       "      <td>M. Night Shaym-Aliens!</td>\n",
       "      <td>1</td>\n",
       "      <td>4</td>\n",
       "      <td>January 13, 2014</td>\n",
       "      <td>1, 2, 38, 87, 175, 179, 181, 191, 239, 241, 27...</td>\n",
       "    </tr>\n",
       "    <tr>\n",
       "      <th>4</th>\n",
       "      <td>Meeseeks and Destroy</td>\n",
       "      <td>1</td>\n",
       "      <td>5</td>\n",
       "      <td>January 20, 2014</td>\n",
       "      <td>1, 2, 38, 41, 89, 116, 117, 120, 175, 193, 238...</td>\n",
       "    </tr>\n",
       "  </tbody>\n",
       "</table>\n",
       "</div>"
      ],
      "text/plain": [
       "                     name  season  episode           air_date  \\\n",
       "0                   Pilot       1        1   December 2, 2013   \n",
       "1           Lawnmower Dog       1        2   December 9, 2013   \n",
       "2            Anatomy Park       1        3  December 16, 2013   \n",
       "3  M. Night Shaym-Aliens!       1        4   January 13, 2014   \n",
       "4    Meeseeks and Destroy       1        5   January 20, 2014   \n",
       "\n",
       "                                          characters  \n",
       "0  1, 2, 35, 38, 62, 92, 127, 144, 158, 175, 179,...  \n",
       "1  1, 2, 38, 46, 63, 80, 175, 221, 239, 246, 304,...  \n",
       "2  1, 2, 12, 17, 38, 45, 96, 97, 98, 99, 100, 101...  \n",
       "3  1, 2, 38, 87, 175, 179, 181, 191, 239, 241, 27...  \n",
       "4  1, 2, 38, 41, 89, 116, 117, 120, 175, 193, 238...  "
      ]
     },
     "execution_count": 9,
     "metadata": {},
     "output_type": "execute_result"
    }
   ],
   "source": [
    "ep = pd.read_csv('epi_sql.csv')  \n",
    "ep.head()"
   ]
  },
  {
   "cell_type": "code",
   "execution_count": 10,
   "id": "2cd0d4bf-ffca-44de-b82c-7ed3c700f06d",
   "metadata": {},
   "outputs": [
    {
     "data": {
      "text/html": [
       "<div>\n",
       "<style scoped>\n",
       "    .dataframe tbody tr th:only-of-type {\n",
       "        vertical-align: middle;\n",
       "    }\n",
       "\n",
       "    .dataframe tbody tr th {\n",
       "        vertical-align: top;\n",
       "    }\n",
       "\n",
       "    .dataframe thead th {\n",
       "        text-align: right;\n",
       "    }\n",
       "</style>\n",
       "<table border=\"1\" class=\"dataframe\">\n",
       "  <thead>\n",
       "    <tr style=\"text-align: right;\">\n",
       "      <th></th>\n",
       "      <th>name</th>\n",
       "      <th>season</th>\n",
       "      <th>episode</th>\n",
       "      <th>air_date</th>\n",
       "      <th>characters</th>\n",
       "    </tr>\n",
       "  </thead>\n",
       "  <tbody>\n",
       "    <tr>\n",
       "      <th>0</th>\n",
       "      <td>Pilot</td>\n",
       "      <td>1</td>\n",
       "      <td>1</td>\n",
       "      <td>December 2, 2013</td>\n",
       "      <td>[1,  2,  35,  38,  62,  92,  127,  144,  158, ...</td>\n",
       "    </tr>\n",
       "    <tr>\n",
       "      <th>1</th>\n",
       "      <td>Lawnmower Dog</td>\n",
       "      <td>1</td>\n",
       "      <td>2</td>\n",
       "      <td>December 9, 2013</td>\n",
       "      <td>[1,  2,  38,  46,  63,  80,  175,  221,  239, ...</td>\n",
       "    </tr>\n",
       "    <tr>\n",
       "      <th>2</th>\n",
       "      <td>Anatomy Park</td>\n",
       "      <td>1</td>\n",
       "      <td>3</td>\n",
       "      <td>December 16, 2013</td>\n",
       "      <td>[1,  2,  12,  17,  38,  45,  96,  97,  98,  99...</td>\n",
       "    </tr>\n",
       "    <tr>\n",
       "      <th>3</th>\n",
       "      <td>M. Night Shaym-Aliens!</td>\n",
       "      <td>1</td>\n",
       "      <td>4</td>\n",
       "      <td>January 13, 2014</td>\n",
       "      <td>[1,  2,  38,  87,  175,  179,  181,  191,  239...</td>\n",
       "    </tr>\n",
       "    <tr>\n",
       "      <th>4</th>\n",
       "      <td>Meeseeks and Destroy</td>\n",
       "      <td>1</td>\n",
       "      <td>5</td>\n",
       "      <td>January 20, 2014</td>\n",
       "      <td>[1,  2,  38,  41,  89,  116,  117,  120,  175,...</td>\n",
       "    </tr>\n",
       "  </tbody>\n",
       "</table>\n",
       "</div>"
      ],
      "text/plain": [
       "                     name  season  episode           air_date  \\\n",
       "0                   Pilot       1        1   December 2, 2013   \n",
       "1           Lawnmower Dog       1        2   December 9, 2013   \n",
       "2            Anatomy Park       1        3  December 16, 2013   \n",
       "3  M. Night Shaym-Aliens!       1        4   January 13, 2014   \n",
       "4    Meeseeks and Destroy       1        5   January 20, 2014   \n",
       "\n",
       "                                          characters  \n",
       "0  [1,  2,  35,  38,  62,  92,  127,  144,  158, ...  \n",
       "1  [1,  2,  38,  46,  63,  80,  175,  221,  239, ...  \n",
       "2  [1,  2,  12,  17,  38,  45,  96,  97,  98,  99...  \n",
       "3  [1,  2,  38,  87,  175,  179,  181,  191,  239...  \n",
       "4  [1,  2,  38,  41,  89,  116,  117,  120,  175,...  "
      ]
     },
     "execution_count": 10,
     "metadata": {},
     "output_type": "execute_result"
    }
   ],
   "source": [
    "ep['characters'] = ep['characters'].str.split(',')\n",
    "ep.head()"
   ]
  },
  {
   "cell_type": "code",
   "execution_count": 11,
   "id": "b298de01-f472-4b92-b65d-334809b4cb3a",
   "metadata": {},
   "outputs": [
    {
     "data": {
      "text/html": [
       "<div>\n",
       "<style scoped>\n",
       "    .dataframe tbody tr th:only-of-type {\n",
       "        vertical-align: middle;\n",
       "    }\n",
       "\n",
       "    .dataframe tbody tr th {\n",
       "        vertical-align: top;\n",
       "    }\n",
       "\n",
       "    .dataframe thead th {\n",
       "        text-align: right;\n",
       "    }\n",
       "</style>\n",
       "<table border=\"1\" class=\"dataframe\">\n",
       "  <thead>\n",
       "    <tr style=\"text-align: right;\">\n",
       "      <th></th>\n",
       "      <th>name</th>\n",
       "      <th>season</th>\n",
       "      <th>episode</th>\n",
       "      <th>air_date</th>\n",
       "      <th>characters</th>\n",
       "    </tr>\n",
       "  </thead>\n",
       "  <tbody>\n",
       "    <tr>\n",
       "      <th>0</th>\n",
       "      <td>Pilot</td>\n",
       "      <td>1</td>\n",
       "      <td>1</td>\n",
       "      <td>December 2, 2013</td>\n",
       "      <td>1</td>\n",
       "    </tr>\n",
       "    <tr>\n",
       "      <th>0</th>\n",
       "      <td>Pilot</td>\n",
       "      <td>1</td>\n",
       "      <td>1</td>\n",
       "      <td>December 2, 2013</td>\n",
       "      <td>2</td>\n",
       "    </tr>\n",
       "    <tr>\n",
       "      <th>0</th>\n",
       "      <td>Pilot</td>\n",
       "      <td>1</td>\n",
       "      <td>1</td>\n",
       "      <td>December 2, 2013</td>\n",
       "      <td>35</td>\n",
       "    </tr>\n",
       "    <tr>\n",
       "      <th>0</th>\n",
       "      <td>Pilot</td>\n",
       "      <td>1</td>\n",
       "      <td>1</td>\n",
       "      <td>December 2, 2013</td>\n",
       "      <td>38</td>\n",
       "    </tr>\n",
       "    <tr>\n",
       "      <th>0</th>\n",
       "      <td>Pilot</td>\n",
       "      <td>1</td>\n",
       "      <td>1</td>\n",
       "      <td>December 2, 2013</td>\n",
       "      <td>62</td>\n",
       "    </tr>\n",
       "  </tbody>\n",
       "</table>\n",
       "</div>"
      ],
      "text/plain": [
       "    name  season  episode          air_date characters\n",
       "0  Pilot       1        1  December 2, 2013          1\n",
       "0  Pilot       1        1  December 2, 2013          2\n",
       "0  Pilot       1        1  December 2, 2013         35\n",
       "0  Pilot       1        1  December 2, 2013         38\n",
       "0  Pilot       1        1  December 2, 2013         62"
      ]
     },
     "execution_count": 11,
     "metadata": {},
     "output_type": "execute_result"
    }
   ],
   "source": [
    "ep = ep.explode('characters')\n",
    "ep.head()"
   ]
  },
  {
   "cell_type": "code",
   "execution_count": 12,
   "id": "41812f55-e10b-4b1b-a7ea-8df0afd842ed",
   "metadata": {},
   "outputs": [],
   "source": [
    "ep.to_csv('ep_char.csv') # Locations table is stored"
   ]
  },
  {
   "cell_type": "code",
   "execution_count": 13,
   "id": "bfac5436-3cf5-43ab-92f2-eb3eb77eff01",
   "metadata": {},
   "outputs": [
    {
     "name": "stdout",
     "output_type": "stream",
     "text": [
      "<mysql.connector.connection_cext.CMySQLConnection object at 0x000001EE998ECC40>\n"
     ]
    }
   ],
   "source": [
    "import mysql.connector\n",
    "mydb = mysql.connector.connect(\n",
    "  host=\"127.0.0.1\",\n",
    "  user=\"root\",\n",
    "  passwd=\"******\",\n",
    "  database = \"rick_morty\",\n",
    "  auth_plugin='mysql_native_password'\n",
    ")\n",
    "cursor = mydb.cursor()\n",
    "print(mydb) "
   ]
  },
  {
   "cell_type": "code",
   "execution_count": 16,
   "id": "b0d818e5-5909-4684-8d52-9c745bfb49ef",
   "metadata": {},
   "outputs": [],
   "source": [
    "cursor.execute(\"CREATE TABLE ep_char(name varchar(255),season int,episode int,air_date varchar(255),characters int)\")"
   ]
  },
  {
   "cell_type": "code",
   "execution_count": 20,
   "id": "8c1307aa-8d5c-4756-9da4-f22964ce3f39",
   "metadata": {},
   "outputs": [],
   "source": [
    "ep = pd.read_csv('ep_char.csv')\n",
    "ep = ep.drop(columns = [\"Unnamed: 0\"])\n",
    "for i,row in ep.iterrows():\n",
    "            #here %S means string values \n",
    "            sql = \"INSERT INTO rick_morty.ep_char VALUES (%s,%s,%s,%s,%s)\"\n",
    "            cursor.execute(sql, tuple(row))\n",
    "            # the connection is not auto committed by default, so we must commit to save our changes\n",
    "            mydb.commit()"
   ]
  }
 ],
 "metadata": {
  "kernelspec": {
   "display_name": "Python 3 (ipykernel)",
   "language": "python",
   "name": "python3"
  },
  "language_info": {
   "codemirror_mode": {
    "name": "ipython",
    "version": 3
   },
   "file_extension": ".py",
   "mimetype": "text/x-python",
   "name": "python",
   "nbconvert_exporter": "python",
   "pygments_lexer": "ipython3",
   "version": "3.9.12"
  }
 },
 "nbformat": 4,
 "nbformat_minor": 5
}
